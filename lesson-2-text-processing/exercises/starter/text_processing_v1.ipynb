{
 "cells": [
  {
   "cell_type": "markdown",
   "metadata": {},
   "source": [
    "# Text Processing\n",
    "\n",
    "## Capturing Text Data\n",
    "\n",
    "### Plain Text"
   ]
  },
  {
   "cell_type": "code",
   "execution_count": 7,
   "metadata": {},
   "outputs": [
    {
     "name": "stdout",
     "output_type": "stream",
     "text": [
      "Hieroglyphic writing dates from c. 3000 BC, and is composed of hundreds of symbols. A hieroglyph can represent a word, a sound, or a silent determinative; and the same symbol can serve different purposes in different contexts. Hieroglyphs were a formal script, used on stone monuments and in tombs, that could be as detailed as individual works of art.\n",
      "\n"
     ]
    }
   ],
   "source": [
    "import os\n",
    "\n",
    "# Read in a plain text file\n",
    "with open(os.path.join(\"../../../data\", \"hieroglyph.txt\"), \"r\") as f:\n",
    "    text = f.read()\n",
    "    print(text)"
   ]
  },
  {
   "cell_type": "markdown",
   "metadata": {},
   "source": [
    "### Tabular Data"
   ]
  },
  {
   "cell_type": "code",
   "execution_count": 8,
   "metadata": {
    "scrolled": true
   },
   "outputs": [
    {
     "data": {
      "text/html": [
       "<div>\n",
       "<style scoped>\n",
       "    .dataframe tbody tr th:only-of-type {\n",
       "        vertical-align: middle;\n",
       "    }\n",
       "\n",
       "    .dataframe tbody tr th {\n",
       "        vertical-align: top;\n",
       "    }\n",
       "\n",
       "    .dataframe thead th {\n",
       "        text-align: right;\n",
       "    }\n",
       "</style>\n",
       "<table border=\"1\" class=\"dataframe\">\n",
       "  <thead>\n",
       "    <tr style=\"text-align: right;\">\n",
       "      <th></th>\n",
       "      <th>publisher</th>\n",
       "      <th>title</th>\n",
       "    </tr>\n",
       "  </thead>\n",
       "  <tbody>\n",
       "    <tr>\n",
       "      <th>0</th>\n",
       "      <td>Livemint</td>\n",
       "      <td>fed's charles plosser sees high bar for change...</td>\n",
       "    </tr>\n",
       "    <tr>\n",
       "      <th>1</th>\n",
       "      <td>IFA Magazine</td>\n",
       "      <td>us open: stocks fall after fed official hints ...</td>\n",
       "    </tr>\n",
       "    <tr>\n",
       "      <th>2</th>\n",
       "      <td>IFA Magazine</td>\n",
       "      <td>fed risks falling 'behind the curve', charles ...</td>\n",
       "    </tr>\n",
       "    <tr>\n",
       "      <th>3</th>\n",
       "      <td>Moneynews</td>\n",
       "      <td>fed's plosser: nasty weather has curbed job gr...</td>\n",
       "    </tr>\n",
       "    <tr>\n",
       "      <th>4</th>\n",
       "      <td>NASDAQ</td>\n",
       "      <td>plosser: fed may have to accelerate tapering pace</td>\n",
       "    </tr>\n",
       "  </tbody>\n",
       "</table>\n",
       "</div>"
      ],
      "text/plain": [
       "      publisher                                              title\n",
       "0      Livemint  fed's charles plosser sees high bar for change...\n",
       "1  IFA Magazine  us open: stocks fall after fed official hints ...\n",
       "2  IFA Magazine  fed risks falling 'behind the curve', charles ...\n",
       "3     Moneynews  fed's plosser: nasty weather has curbed job gr...\n",
       "4        NASDAQ  plosser: fed may have to accelerate tapering pace"
      ]
     },
     "execution_count": 8,
     "metadata": {},
     "output_type": "execute_result"
    }
   ],
   "source": [
    "import pandas as pd\n",
    "\n",
    "# Extract text column from a dataframe\n",
    "df = pd.read_csv(os.path.join(\"../../../data\", \"news.csv\"))\n",
    "df.head()[['publisher', 'title']]\n",
    "\n",
    "# Convert text column to lowercase\n",
    "df['title'] = df['title'].str.lower()\n",
    "df.head()[['publisher', 'title']]"
   ]
  },
  {
   "cell_type": "markdown",
   "metadata": {},
   "source": [
    "### Online Resource"
   ]
  },
  {
   "cell_type": "code",
   "execution_count": 39,
   "metadata": {},
   "outputs": [
    {
     "name": "stdout",
     "output_type": "stream",
     "text": [
      "<Response [429]>\n"
     ]
    }
   ],
   "source": [
    "# https://theysaidso.com/api#python\n",
    "\n",
    "import requests\n",
    "\n",
    "url = 'https://quotes.rest/qod?category=management'\n",
    "api_token = \"\"\n",
    "headers = {'content-type': 'application/json',\n",
    "\t   'X-TheySaidSo-Api-Secret': format(api_token)}\n",
    "\n",
    "response = requests.get(url, headers=headers)\n",
    "print(response)\n",
    "# quotes=response.json()['contents']['quotes'][0]\n",
    "# print(quotes)"
   ]
  },
  {
   "cell_type": "code",
   "execution_count": null,
   "metadata": {},
   "outputs": [],
   "source": [
    "# Extract relevant object and field\n",
    "\n",
    "print(quotes[\"quote\"], \"\\n--\", quotes[\"author\"])"
   ]
  },
  {
   "cell_type": "code",
   "execution_count": null,
   "metadata": {
    "scrolled": true
   },
   "outputs": [],
   "source": [
    "import requests\n",
    "import json\n",
    "\n",
    "# Fetch data from a REST API\n",
    "# r = requests.get(\n",
    "#     \"http://quotes.rest/qod.json\")\n",
    "\n",
    "url = 'http://quotes.rest/qod.json'\n",
    "\n",
    "r = requests.get(url, headers=headers)\n",
    "res = r.json()\n",
    "print(json.dumps(res, indent=4))\n",
    "\n",
    "# Extract relevant object and field\n",
    "q = res[\"contents\"][\"quotes\"][0]\n",
    "print(q[\"quote\"], \"\\n--\", q[\"author\"])"
   ]
  },
  {
   "cell_type": "markdown",
   "metadata": {},
   "source": [
    "## Cleaning"
   ]
  },
  {
   "cell_type": "code",
   "execution_count": 11,
   "metadata": {
    "scrolled": true
   },
   "outputs": [
    {
     "name": "stdout",
     "output_type": "stream",
     "text": [
      "<html lang=\"en\" op=\"news\"><head><meta name=\"referrer\" content=\"origin\"><meta name=\"viewport\" content=\"width=device-width, initial-scale=1.0\"><link rel=\"stylesheet\" type=\"text/css\" href=\"news.css?lv4iqE1LZP0IXr4FPnmv\">\n",
      "        <link rel=\"shortcut icon\" href=\"favicon.ico\">\n",
      "          <link rel=\"alternate\" type=\"application/rss+xml\" title=\"RSS\" href=\"rss\">\n",
      "        <title>Hacker News</title></head><body><center><table id=\"hnmain\" border=\"0\" cellpadding=\"0\" cellspacing=\"0\" width=\"85%\" bgcolor=\"#f6f6ef\">\n",
      "        <tr><td bgcolor=\"#ff6600\"><table border=\"0\" cellpadding=\"0\" cellspacing=\"0\" width=\"100%\" style=\"padding:2px\"><tr><td style=\"width:18px;padding-right:4px\"><a href=\"https://news.ycombinator.com\"><img src=\"y18.svg\" width=\"18\" height=\"18\" style=\"border:1px white solid; display:block\"></a></td>\n",
      "                  <td style=\"line-height:12pt; height:10px;\"><span class=\"pagetop\"><b class=\"hnname\"><a href=\"news\">Hacker News</a></b>\n",
      "                            <a href=\"newest\">new</a> | <a href=\"front\">past</a> | <a href=\"newcomments\">comments</a> | <a href=\"ask\">ask</a> | <a href=\"show\">show</a> | <a href=\"jobs\">jobs</a> | <a href=\"submit\">submit</a>            </span></td><td style=\"text-align:right;padding-right:4px;\"><span class=\"pagetop\">\n",
      "                              <a href=\"login?goto=news\">login</a>\n",
      "                          </span></td>\n",
      "              </tr></table></td></tr>\n",
      "<tr id=\"pagespace\" title=\"\" style=\"height:10px\"></tr><tr><td><table border=\"0\" cellpadding=\"0\" cellspacing=\"0\">\n",
      "            <tr class='athing' id='38015277'>\n",
      "      <td align=\"right\" valign=\"top\" class=\"title\"><span class=\"rank\">1.</span></td>      <td valign=\"top\" class=\"votelinks\"><center><a id='up_38015277'href='vote?id=38015277&amp;how=up&amp;goto=news'><div class='votearrow' title='upvote'></div></a></center></td><td class=\"title\"><span class=\"titleline\"><a href=\"https://ileakage.com/\" rel=\"noreferrer\">iLeakage: Browser-Based Timerless Speculative Execution Attacks on Apple Devices</a><span class=\"sitebit comhead\"> (<a href=\"from?site=ileakage.com\"><span class=\"sitestr\">ileakage.com</span></a>)</span></span></td></tr><tr><td colspan=\"2\"></td><td class=\"subtext\"><span class=\"subline\">\n",
      "          <span class=\"score\" id=\"score_38015277\">248 points</span> by <a href=\"user?id=aw1621107\" class=\"hnuser\">aw1621107</a> <span class=\"age\" title=\"2023-10-25T17:15:49\"><a href=\"item?id=38015277\">3 hours ago</a></span> <span id=\"unv_38015277\"></span> | <a href=\"hide?id=38015277&amp;goto=news\">hide</a> | <a href=\"item?id=38015277\">111&nbsp;comments</a>        </span>\n",
      "              </td></tr>\n",
      "      <tr class=\"spacer\" style=\"height:5px\"></tr>\n",
      "                <tr class='athing' id='38017541'>\n",
      "      <td align=\"right\" valign=\"top\" class=\"title\"><span class=\"rank\">2.</span></td>      <td valign=\"top\" class=\"votelinks\"><center><a id='up_38017541'href='vote?id=38017541&amp;how=up&amp;goto=news'><div class='votearrow' title='upvote'></div></a></center></td><td class=\"title\"><span class=\"titleline\"><a href=\"https://helix-editor.com/news/release-23-10-highlights/\" rel=\"noreferrer\">Helix 23.10 Highlights</a><span class=\"sitebit comhead\"> (<a href=\"from?site=helix-editor.com\"><span class=\"sitestr\">helix-editor.com</span></a>)</span></span></td></tr><tr><td colspan=\"2\"></td><td class=\"subtext\"><span class=\"subline\">\n",
      "          <span class=\"score\" id=\"score_38017541\">56 points</span> by <a href=\"user?id=todsacerdoti\" class=\"hnuser\">todsacerdoti</a> <span class=\"age\" title=\"2023-10-25T20:02:07\"><a href=\"item?id=38017541\">45 minutes ago</a></span> <span id=\"unv_38017541\"></span> | <a href=\"hide?id=38017541&amp;goto=news\">hide</a> | <a href=\"item?id=38017541\">12&nbsp;comments</a>        </span>\n",
      "              </td></tr>\n",
      "      <tr class=\"spacer\" style=\"height:5px\"></tr>\n",
      "                <tr class='athing' id='38017239'>\n",
      "      <td align=\"right\" valign=\"top\" class=\"title\"><span class=\"rank\">3.</span></td>      <td valign=\"top\" class=\"votelinks\"><center><a id='up_38017239'href='vote?id=38017239&amp;how=up&amp;goto=news'><div class='votearrow' title='upvote'></div></a></center></td><td class=\"title\"><span class=\"titleline\"><a href=\"https://a16z.com/the-cost-of-cloud-a-trillion-dollar-paradox/\" rel=\"noreferrer\">The Cost of Cloud, a Trillion Dollar Paradox</a><span class=\"sitebit comhead\"> (<a href=\"from?site=a16z.com\"><span class=\"sitestr\">a16z.com</span></a>)</span></span></td></tr><tr><td colspan=\"2\"></td><td class=\"subtext\"><span class=\"subline\">\n",
      "          <span class=\"score\" id=\"score_38017239\">45 points</span> by <a href=\"user?id=lnwlebjel\" class=\"hnuser\">lnwlebjel</a> <span class=\"age\" title=\"2023-10-25T19:37:26\"><a href=\"item?id=38017239\">1 hour ago</a></span> <span id=\"unv_38017239\"></span> | <a href=\"hide?id=38017239&amp;goto=news\">hide</a> | <a href=\"item?id=38017239\">25&nbsp;comments</a>        </span>\n",
      "              </td></tr>\n",
      "      <tr class=\"spacer\" style=\"height:5px\"></tr>\n",
      "                <tr class='athing' id='38010992'>\n",
      "      <td align=\"right\" valign=\"top\" class=\"title\"><span class=\"rank\">4.</span></td>      <td valign=\"top\" class=\"votelinks\"><center><a id='up_38010992'href='vote?id=38010992&amp;how=up&amp;goto=news'><div class='votearrow' title='upvote'></div></a></center></td><td class=\"title\"><span class=\"titleline\"><a href=\"item?id=38010992\">Ask HN: PG&#x27;s &#x27;Do Things That Don&#x27;t Scale&#x27; manual examples?</a></span></td></tr><tr><td colspan=\"2\"></td><td class=\"subtext\"><span class=\"subline\">\n",
      "          <span class=\"score\" id=\"score_38010992\">93 points</span> by <a href=\"user?id=nicgrev103\" class=\"hnuser\">nicgrev103</a> <span class=\"age\" title=\"2023-10-25T09:37:24\"><a href=\"item?id=38010992\">3 hours ago</a></span> <span id=\"unv_38010992\"></span> | <a href=\"hide?id=38010992&amp;goto=news\">hide</a> | <a href=\"item?id=38010992\">70&nbsp;comments</a>        </span>\n",
      "              </td></tr>\n",
      "      <tr class=\"spacer\" style=\"height:5px\"></tr>\n",
      "                <tr class='athing' id='38017882'>\n",
      "      <td align=\"right\" valign=\"top\" class=\"title\"><span class=\"rank\">5.</span></td>      <td valign=\"top\" class=\"votelinks\"><center><a id='up_38017882'href='vote?id=38017882&amp;how=up&amp;goto=news'><div class='votearrow' title='upvote'></div></a></center></td><td class=\"title\"><span class=\"titleline\"><a href=\"https://investor.fb.com/investor-news/press-release-details/2023/Meta-Reports-Third-Quarter-2023-Results/default.aspx\" rel=\"noreferrer\">Meta Reports Third Quarter 2023 Results</a><span class=\"sitebit comhead\"> (<a href=\"from?site=fb.com\"><span class=\"sitestr\">fb.com</span></a>)</span></span></td></tr><tr><td colspan=\"2\"></td><td class=\"subtext\"><span class=\"subline\">\n",
      "          <span class=\"score\" id=\"score_38017882\">13 points</span> by <a href=\"user?id=loeg\" class=\"hnuser\">loeg</a> <span class=\"age\" title=\"2023-10-25T20:25:35\"><a href=\"item?id=38017882\">22 minutes ago</a></span> <span id=\"unv_38017882\"></span> | <a href=\"hide?id=38017882&amp;goto=news\">hide</a> | <a href=\"item?id=38017882\">8&nbsp;comments</a>        </span>\n",
      "              </td></tr>\n",
      "      <tr class=\"spacer\" style=\"height:5px\"></tr>\n",
      "                <tr class='athing' id='38012032'>\n",
      "      <td align=\"right\" valign=\"top\" class=\"title\"><span class=\"rank\">6.</span></td>      <td valign=\"top\" class=\"votelinks\"><center><a id='up_38012032'href='vote?id=38012032&amp;how=up&amp;goto=news'><div class='votearrow' title='upvote'></div></a></center></td><td class=\"title\"><span class=\"titleline\"><a href=\"https://github.com/AndrewWalsh/openapi-devtools\">Show HN: OpenAPI DevTools – Chrome extension that generates an API spec</a><span class=\"sitebit comhead\"> (<a href=\"from?site=github.com/andrewwalsh\"><span class=\"sitestr\">github.com/andrewwalsh</span></a>)</span></span></td></tr><tr><td colspan=\"2\"></td><td class=\"subtext\"><span class=\"subline\">\n",
      "          <span class=\"score\" id=\"score_38012032\">599 points</span> by <a href=\"user?id=mrmagoo2\" class=\"hnuser\">mrmagoo2</a> <span class=\"age\" title=\"2023-10-25T12:24:19\"><a href=\"item?id=38012032\">8 hours ago</a></span> <span id=\"unv_38012032\"></span> | <a href=\"hide?id=38012032&amp;goto=news\">hide</a> | <a href=\"item?id=38012032\">74&nbsp;comments</a>        </span>\n",
      "              </td></tr>\n",
      "      <tr class=\"spacer\" style=\"height:5px\"></tr>\n",
      "                <tr class='athing' id='38017146'>\n",
      "      <td align=\"right\" valign=\"top\" class=\"title\"><span class=\"rank\">7.</span></td>      <td valign=\"top\" class=\"votelinks\"><center><a id='up_38017146'href='vote?id=38017146&amp;how=up&amp;goto=news'><div class='votearrow' title='upvote'></div></a></center></td><td class=\"title\"><span class=\"titleline\"><a href=\"https://www.nature.com/articles/d41586-023-03272-3\" rel=\"noreferrer\">AI &#x27;breakthrough&#x27;: neural net has human-like ability to generalize language</a><span class=\"sitebit comhead\"> (<a href=\"from?site=nature.com\"><span class=\"sitestr\">nature.com</span></a>)</span></span></td></tr><tr><td colspan=\"2\"></td><td class=\"subtext\"><span class=\"subline\">\n",
      "          <span class=\"score\" id=\"score_38017146\">23 points</span> by <a href=\"user?id=drcwpl\" class=\"hnuser\">drcwpl</a> <span class=\"age\" title=\"2023-10-25T19:28:45\"><a href=\"item?id=38017146\">1 hour ago</a></span> <span id=\"unv_38017146\"></span> | <a href=\"hide?id=38017146&amp;goto=news\">hide</a> | <a href=\"item?id=38017146\">10&nbsp;comments</a>        </span>\n",
      "              </td></tr>\n",
      "      <tr class=\"spacer\" style=\"height:5px\"></tr>\n",
      "                <tr class='athing' id='38016895'>\n",
      "      <td align=\"right\" valign=\"top\" class=\"title\"><span class=\"rank\">8.</span></td>      <td valign=\"top\" class=\"votelinks\"><center><a id='up_38016895'href='vote?id=38016895&amp;how=up&amp;goto=news'><div class='votearrow' title='upvote'></div></a></center></td><td class=\"title\"><span class=\"titleline\"><a href=\"https://testflight.apple.com/join/LVj8KwAq\" rel=\"noreferrer\">Show HN: JellyBox – Jellyfin Desktop Client(beta)</a><span class=\"sitebit comhead\"> (<a href=\"from?site=testflight.apple.com\"><span class=\"sitestr\">testflight.apple.com</span></a>)</span></span></td></tr><tr><td colspan=\"2\"></td><td class=\"subtext\"><span class=\"subline\">\n",
      "          <span class=\"score\" id=\"score_38016895\">30 points</span> by <a href=\"user?id=avdept\" class=\"hnuser\">avdept</a> <span class=\"age\" title=\"2023-10-25T19:07:03\"><a href=\"item?id=38016895\">1 hour ago</a></span> <span id=\"unv_38016895\"></span> | <a href=\"hide?id=38016895&amp;goto=news\">hide</a> | <a href=\"item?id=38016895\">19&nbsp;comments</a>        </span>\n",
      "              </td></tr>\n",
      "      <tr class=\"spacer\" style=\"height:5px\"></tr>\n",
      "                <tr class='athing' id='38015169'>\n",
      "      <td align=\"right\" valign=\"top\" class=\"title\"><span class=\"rank\">9.</span></td>      <td valign=\"top\" class=\"votelinks\"><center><a id='up_38015169'href='vote?id=38015169&amp;how=up&amp;goto=news'><div class='votearrow' title='upvote'></div></a></center></td><td class=\"title\"><span class=\"titleline\"><a href=\"https://www.ucdavis.edu/climate/news/adding-crushed-rock-farmland-pulls-carbon-out-air\" rel=\"noreferrer\">Adding crushed rock to farmland pulls carbon out of the air</a><span class=\"sitebit comhead\"> (<a href=\"from?site=ucdavis.edu\"><span class=\"sitestr\">ucdavis.edu</span></a>)</span></span></td></tr><tr><td colspan=\"2\"></td><td class=\"subtext\"><span class=\"subline\">\n",
      "          <span class=\"score\" id=\"score_38015169\">148 points</span> by <a href=\"user?id=geox\" class=\"hnuser\">geox</a> <span class=\"age\" title=\"2023-10-25T17:08:58\"><a href=\"item?id=38015169\">3 hours ago</a></span> <span id=\"unv_38015169\"></span> | <a href=\"hide?id=38015169&amp;goto=news\">hide</a> | <a href=\"item?id=38015169\">132&nbsp;comments</a>        </span>\n",
      "              </td></tr>\n",
      "      <tr class=\"spacer\" style=\"height:5px\"></tr>\n",
      "                <tr class='athing' id='38006879'>\n",
      "      <td align=\"right\" valign=\"top\" class=\"title\"><span class=\"rank\">10.</span></td>      <td valign=\"top\" class=\"votelinks\"><center><a id='up_38006879'href='vote?id=38006879&amp;how=up&amp;goto=news'><div class='votearrow' title='upvote'></div></a></center></td><td class=\"title\"><span class=\"titleline\"><a href=\"https://phys.org/news/2023-10-drought-brazil-amazon-reveals-ancient.html\" rel=\"noreferrer\">Drought in Brazil&#x27;s Amazon reveals ancient engravings</a><span class=\"sitebit comhead\"> (<a href=\"from?site=phys.org\"><span class=\"sitestr\">phys.org</span></a>)</span></span></td></tr><tr><td colspan=\"2\"></td><td class=\"subtext\"><span class=\"subline\">\n",
      "          <span class=\"score\" id=\"score_38006879\">49 points</span> by <a href=\"user?id=wglb\" class=\"hnuser\">wglb</a> <span class=\"age\" title=\"2023-10-24T23:01:28\"><a href=\"item?id=38006879\">3 hours ago</a></span> <span id=\"unv_38006879\"></span> | <a href=\"hide?id=38006879&amp;goto=news\">hide</a> | <a href=\"item?id=38006879\">23&nbsp;comments</a>        </span>\n",
      "              </td></tr>\n",
      "      <tr class=\"spacer\" style=\"height:5px\"></tr>\n",
      "                <tr class='athing' id='38004574'>\n",
      "      <td align=\"right\" valign=\"top\" class=\"title\"><span class=\"rank\">11.</span></td>      <td valign=\"top\" class=\"votelinks\"><center><a id='up_38004574'href='vote?id=38004574&amp;how=up&amp;goto=news'><div class='votearrow' title='upvote'></div></a></center></td><td class=\"title\"><span class=\"titleline\"><a href=\"https://www.theguardian.com/music/2023/oct/17/focal-dystonia-my-hand-spasmed-and-shook-why-musicians-get-the-yips\" rel=\"noreferrer\">&#x27;When I tried to play, my hand spasmed and shook&#x27;: why musicians get the yips</a><span class=\"sitebit comhead\"> (<a href=\"from?site=theguardian.com\"><span class=\"sitestr\">theguardian.com</span></a>)</span></span></td></tr><tr><td colspan=\"2\"></td><td class=\"subtext\"><span class=\"subline\">\n",
      "          <span class=\"score\" id=\"score_38004574\">9 points</span> by <a href=\"user?id=tintinnabula\" class=\"hnuser\">tintinnabula</a> <span class=\"age\" title=\"2023-10-24T19:59:21\"><a href=\"item?id=38004574\">1 hour ago</a></span> <span id=\"unv_38004574\"></span> | <a href=\"hide?id=38004574&amp;goto=news\">hide</a> | <a href=\"item?id=38004574\">discuss</a>        </span>\n",
      "              </td></tr>\n",
      "      <tr class=\"spacer\" style=\"height:5px\"></tr>\n",
      "                <tr class='athing' id='38014835'>\n",
      "      <td align=\"right\" valign=\"top\" class=\"title\"><span class=\"rank\">12.</span></td>      <td valign=\"top\" class=\"votelinks\"><center><a id='up_38014835'href='vote?id=38014835&amp;how=up&amp;goto=news'><div class='votearrow' title='upvote'></div></a></center></td><td class=\"title\"><span class=\"titleline\"><a href=\"https://reactagent.io/\" rel=\"noreferrer\">ReactAgent: LLM Agent for React Coding</a><span class=\"sitebit comhead\"> (<a href=\"from?site=reactagent.io\"><span class=\"sitestr\">reactagent.io</span></a>)</span></span></td></tr><tr><td colspan=\"2\"></td><td class=\"subtext\"><span class=\"subline\">\n",
      "          <span class=\"score\" id=\"score_38014835\">54 points</span> by <a href=\"user?id=omarfarooq\" class=\"hnuser\">omarfarooq</a> <span class=\"age\" title=\"2023-10-25T16:46:59\"><a href=\"item?id=38014835\">4 hours ago</a></span> <span id=\"unv_38014835\"></span> | <a href=\"hide?id=38014835&amp;goto=news\">hide</a> | <a href=\"item?id=38014835\">18&nbsp;comments</a>        </span>\n",
      "              </td></tr>\n",
      "      <tr class=\"spacer\" style=\"height:5px\"></tr>\n",
      "                <tr class='athing' id='38013477'>\n",
      "      <td align=\"right\" valign=\"top\" class=\"title\"><span class=\"rank\">13.</span></td>      <td valign=\"top\" class=\"votelinks\"><center><a id='up_38013477'href='vote?id=38013477&amp;how=up&amp;goto=news'><div class='votearrow' title='upvote'></div></a></center></td><td class=\"title\"><span class=\"titleline\"><a href=\"https://neal.fun/internet-artifacts/\" rel=\"noreferrer\">Internet Artifact Museum</a><span class=\"sitebit comhead\"> (<a href=\"from?site=neal.fun\"><span class=\"sitestr\">neal.fun</span></a>)</span></span></td></tr><tr><td colspan=\"2\"></td><td class=\"subtext\"><span class=\"subline\">\n",
      "          <span class=\"score\" id=\"score_38013477\">103 points</span> by <a href=\"user?id=meetpateltech\" class=\"hnuser\">meetpateltech</a> <span class=\"age\" title=\"2023-10-25T14:54:33\"><a href=\"item?id=38013477\">5 hours ago</a></span> <span id=\"unv_38013477\"></span> | <a href=\"hide?id=38013477&amp;goto=news\">hide</a> | <a href=\"item?id=38013477\">26&nbsp;comments</a>        </span>\n",
      "              </td></tr>\n",
      "      <tr class=\"spacer\" style=\"height:5px\"></tr>\n",
      "                <tr class='athing' id='38013955'>\n",
      "      <td align=\"right\" valign=\"top\" class=\"title\"><span class=\"rank\">14.</span></td>      <td valign=\"top\" class=\"votelinks\"><center><a id='up_38013955'href='vote?id=38013955&amp;how=up&amp;goto=news'><div class='votearrow' title='upvote'></div></a></center></td><td class=\"title\"><span class=\"titleline\"><a href=\"https://www.faa.gov/space/stakeholder_engagement/spacex_starship\" rel=\"noreferrer\">SpaceX Starship Super Heavy Project at the Boca Chica Launch Site</a><span class=\"sitebit comhead\"> (<a href=\"from?site=faa.gov\"><span class=\"sitestr\">faa.gov</span></a>)</span></span></td></tr><tr><td colspan=\"2\"></td><td class=\"subtext\"><span class=\"subline\">\n",
      "          <span class=\"score\" id=\"score_38013955\">87 points</span> by <a href=\"user?id=peter_d_sherman\" class=\"hnuser\">peter_d_sherman</a> <span class=\"age\" title=\"2023-10-25T15:39:17\"><a href=\"item?id=38013955\">5 hours ago</a></span> <span id=\"unv_38013955\"></span> | <a href=\"hide?id=38013955&amp;goto=news\">hide</a> | <a href=\"item?id=38013955\">215&nbsp;comments</a>        </span>\n",
      "              </td></tr>\n",
      "      <tr class=\"spacer\" style=\"height:5px\"></tr>\n",
      "                <tr class='athing' id='38010021'>\n",
      "      <td align=\"right\" valign=\"top\" class=\"title\"><span class=\"rank\">15.</span></td>      <td valign=\"top\" class=\"votelinks\"><center><a id='up_38010021'href='vote?id=38010021&amp;how=up&amp;goto=news'><div class='votearrow' title='upvote'></div></a></center></td><td class=\"title\"><span class=\"titleline\"><a href=\"https://flak.tedunangst.com/post/an-aborted-experiment-with-server-swift\" rel=\"noreferrer\">An aborted experiment with server Swift</a><span class=\"sitebit comhead\"> (<a href=\"from?site=tedunangst.com\"><span class=\"sitestr\">tedunangst.com</span></a>)</span></span></td></tr><tr><td colspan=\"2\"></td><td class=\"subtext\"><span class=\"subline\">\n",
      "          <span class=\"score\" id=\"score_38010021\">126 points</span> by <a href=\"user?id=ibotty\" class=\"hnuser\">ibotty</a> <span class=\"age\" title=\"2023-10-25T07:00:38\"><a href=\"item?id=38010021\">6 hours ago</a></span> <span id=\"unv_38010021\"></span> | <a href=\"hide?id=38010021&amp;goto=news\">hide</a> | <a href=\"item?id=38010021\">44&nbsp;comments</a>        </span>\n",
      "              </td></tr>\n",
      "      <tr class=\"spacer\" style=\"height:5px\"></tr>\n",
      "                <tr class='athing' id='38016875'>\n",
      "      <td align=\"right\" valign=\"top\" class=\"title\"><span class=\"rank\">16.</span></td>      <td valign=\"top\" class=\"votelinks\"><center><a id='up_38016875'href='vote?id=38016875&amp;how=up&amp;goto=news'><div class='votearrow' title='upvote'></div></a></center></td><td class=\"title\"><span class=\"titleline\"><a href=\"https://talkpython.fm/episodes/show/435/pypi-security\" rel=\"noreferrer\">PyPI Security</a><span class=\"sitebit comhead\"> (<a href=\"from?site=talkpython.fm\"><span class=\"sitestr\">talkpython.fm</span></a>)</span></span></td></tr><tr><td colspan=\"2\"></td><td class=\"subtext\"><span class=\"subline\">\n",
      "          <span class=\"score\" id=\"score_38016875\">20 points</span> by <a href=\"user?id=SethMLarson\" class=\"hnuser\">SethMLarson</a> <span class=\"age\" title=\"2023-10-25T19:05:06\"><a href=\"item?id=38016875\">1 hour ago</a></span> <span id=\"unv_38016875\"></span> | <a href=\"hide?id=38016875&amp;goto=news\">hide</a> | <a href=\"item?id=38016875\">3&nbsp;comments</a>        </span>\n",
      "              </td></tr>\n",
      "      <tr class=\"spacer\" style=\"height:5px\"></tr>\n",
      "                <tr class='athing' id='38015038'>\n",
      "      <td align=\"right\" valign=\"top\" class=\"title\"><span class=\"rank\">17.</span></td>      <td valign=\"top\" class=\"votelinks\"><center><a id='up_38015038'href='vote?id=38015038&amp;how=up&amp;goto=news'><div class='votearrow' title='upvote'></div></a></center></td><td class=\"title\"><span class=\"titleline\"><a href=\"https://underjord.io/unpacking-elixir-observability.html\" rel=\"noreferrer\">Unpacking Elixir: Observability</a><span class=\"sitebit comhead\"> (<a href=\"from?site=underjord.io\"><span class=\"sitestr\">underjord.io</span></a>)</span></span></td></tr><tr><td colspan=\"2\"></td><td class=\"subtext\"><span class=\"subline\">\n",
      "          <span class=\"score\" id=\"score_38015038\">57 points</span> by <a href=\"user?id=lawik\" class=\"hnuser\">lawik</a> <span class=\"age\" title=\"2023-10-25T17:01:12\"><a href=\"item?id=38015038\">3 hours ago</a></span> <span id=\"unv_38015038\"></span> | <a href=\"hide?id=38015038&amp;goto=news\">hide</a> | <a href=\"item?id=38015038\">7&nbsp;comments</a>        </span>\n",
      "              </td></tr>\n",
      "      <tr class=\"spacer\" style=\"height:5px\"></tr>\n",
      "                <tr class='athing' id='38016930'>\n",
      "      <td align=\"right\" valign=\"top\" class=\"title\"><span class=\"rank\">18.</span></td>      <td valign=\"top\" class=\"votelinks\"><center><a id='up_38016930'href='vote?id=38016930&amp;how=up&amp;goto=news'><div class='votearrow' title='upvote'></div></a></center></td><td class=\"title\"><span class=\"titleline\"><a href=\"https://buttondown.email/jaffray/archive/the-case-of-a-curious-sql-query/\" rel=\"noreferrer\">The Case of a Curious SQL Query</a><span class=\"sitebit comhead\"> (<a href=\"from?site=buttondown.email/jaffray\"><span class=\"sitestr\">buttondown.email/jaffray</span></a>)</span></span></td></tr><tr><td colspan=\"2\"></td><td class=\"subtext\"><span class=\"subline\">\n",
      "          <span class=\"score\" id=\"score_38016930\">31 points</span> by <a href=\"user?id=petercooper\" class=\"hnuser\">petercooper</a> <span class=\"age\" title=\"2023-10-25T19:10:08\"><a href=\"item?id=38016930\">1 hour ago</a></span> <span id=\"unv_38016930\"></span> | <a href=\"hide?id=38016930&amp;goto=news\">hide</a> | <a href=\"item?id=38016930\">4&nbsp;comments</a>        </span>\n",
      "              </td></tr>\n",
      "      <tr class=\"spacer\" style=\"height:5px\"></tr>\n",
      "                <tr class='athing' id='38012380'>\n",
      "      <td align=\"right\" valign=\"top\" class=\"title\"><span class=\"rank\">19.</span></td>      <td valign=\"top\" class=\"votelinks\"><center><a id='up_38012380'href='vote?id=38012380&amp;how=up&amp;goto=news'><div class='votearrow' title='upvote'></div></a></center></td><td class=\"title\"><span class=\"titleline\"><a href=\"https://english.elpais.com/science-tech/2023-10-25/the-human-body-has-18-trillion-cells-dedicated-to-defending-it.html\" rel=\"noreferrer\">The human body has 1.8T cells dedicated to defending it</a><span class=\"sitebit comhead\"> (<a href=\"from?site=elpais.com\"><span class=\"sitestr\">elpais.com</span></a>)</span></span></td></tr><tr><td colspan=\"2\"></td><td class=\"subtext\"><span class=\"subline\">\n",
      "          <span class=\"score\" id=\"score_38012380\">98 points</span> by <a href=\"user?id=belter\" class=\"hnuser\">belter</a> <span class=\"age\" title=\"2023-10-25T13:07:49\"><a href=\"item?id=38012380\">7 hours ago</a></span> <span id=\"unv_38012380\"></span> | <a href=\"hide?id=38012380&amp;goto=news\">hide</a> | <a href=\"item?id=38012380\">56&nbsp;comments</a>        </span>\n",
      "              </td></tr>\n",
      "      <tr class=\"spacer\" style=\"height:5px\"></tr>\n",
      "                <tr class='athing' id='38013668'>\n",
      "      <td align=\"right\" valign=\"top\" class=\"title\"><span class=\"rank\">20.</span></td>      <td valign=\"top\" class=\"votelinks\"><center><a id='up_38013668'href='vote?id=38013668&amp;how=up&amp;goto=news'><div class='votearrow' title='upvote'></div></a></center></td><td class=\"title\"><span class=\"titleline\"><a href=\"https://takes.jamesomalley.co.uk/p/its-crazy-how-much-transport-for\" rel=\"noreferrer\">What Transport for London can learn about us from our mobile data</a><span class=\"sitebit comhead\"> (<a href=\"from?site=jamesomalley.co.uk\"><span class=\"sitestr\">jamesomalley.co.uk</span></a>)</span></span></td></tr><tr><td colspan=\"2\"></td><td class=\"subtext\"><span class=\"subline\">\n",
      "          <span class=\"score\" id=\"score_38013668\">73 points</span> by <a href=\"user?id=edent\" class=\"hnuser\">edent</a> <span class=\"age\" title=\"2023-10-25T15:13:47\"><a href=\"item?id=38013668\">5 hours ago</a></span> <span id=\"unv_38013668\"></span> | <a href=\"hide?id=38013668&amp;goto=news\">hide</a> | <a href=\"item?id=38013668\">48&nbsp;comments</a>        </span>\n",
      "              </td></tr>\n",
      "      <tr class=\"spacer\" style=\"height:5px\"></tr>\n",
      "                <tr class='athing' id='38012008'>\n",
      "      <td align=\"right\" valign=\"top\" class=\"title\"><span class=\"rank\">21.</span></td>      <td valign=\"top\" class=\"votelinks\"><center><a id='up_38012008'href='vote?id=38012008&amp;how=up&amp;goto=news'><div class='votearrow' title='upvote'></div></a></center></td><td class=\"title\"><span class=\"titleline\"><a href=\"https://www.science.org/content/article/first-malaria-vaccine-slashes-early-childhood-deaths\" rel=\"noreferrer\">First malaria vaccine reduces early childhood mortality</a><span class=\"sitebit comhead\"> (<a href=\"from?site=science.org\"><span class=\"sitestr\">science.org</span></a>)</span></span></td></tr><tr><td colspan=\"2\"></td><td class=\"subtext\"><span class=\"subline\">\n",
      "          <span class=\"score\" id=\"score_38012008\">290 points</span> by <a href=\"user?id=rbanffy\" class=\"hnuser\">rbanffy</a> <span class=\"age\" title=\"2023-10-25T12:20:15\"><a href=\"item?id=38012008\">8 hours ago</a></span> <span id=\"unv_38012008\"></span> | <a href=\"hide?id=38012008&amp;goto=news\">hide</a> | <a href=\"item?id=38012008\">94&nbsp;comments</a>        </span>\n",
      "              </td></tr>\n",
      "      <tr class=\"spacer\" style=\"height:5px\"></tr>\n",
      "                <tr class='athing' id='38016013'>\n",
      "      <td align=\"right\" valign=\"top\" class=\"title\"><span class=\"rank\">22.</span></td>      <td valign=\"top\" class=\"votelinks\"><center><a id='up_38016013'href='vote?id=38016013&amp;how=up&amp;goto=news'><div class='votearrow' title='upvote'></div></a></center></td><td class=\"title\"><span class=\"titleline\"><a href=\"https://arxiv.org/abs/2310.13548\" rel=\"noreferrer\">Towards Understanding Sycophancy in Language Models</a><span class=\"sitebit comhead\"> (<a href=\"from?site=arxiv.org\"><span class=\"sitestr\">arxiv.org</span></a>)</span></span></td></tr><tr><td colspan=\"2\"></td><td class=\"subtext\"><span class=\"subline\">\n",
      "          <span class=\"score\" id=\"score_38016013\">19 points</span> by <a href=\"user?id=wawayanda\" class=\"hnuser\">wawayanda</a> <span class=\"age\" title=\"2023-10-25T18:03:42\"><a href=\"item?id=38016013\">2 hours ago</a></span> <span id=\"unv_38016013\"></span> | <a href=\"hide?id=38016013&amp;goto=news\">hide</a> | <a href=\"item?id=38016013\">13&nbsp;comments</a>        </span>\n",
      "              </td></tr>\n",
      "      <tr class=\"spacer\" style=\"height:5px\"></tr>\n",
      "                <tr class='athing' id='38014069'>\n",
      "      <td align=\"right\" valign=\"top\" class=\"title\"><span class=\"rank\">23.</span></td>      <td valign=\"top\" class=\"votelinks\"><center><a id='up_38014069'href='vote?id=38014069&amp;how=up&amp;goto=news'><div class='votearrow' title='upvote'></div></a></center></td><td class=\"title\"><span class=\"titleline\"><a href=\"https://thehistoryoftheweb.com/postscript/wait-whats-a-bookmarklet/\" rel=\"noreferrer\">Wait, what&#x27;s a bookmarklet?</a><span class=\"sitebit comhead\"> (<a href=\"from?site=thehistoryoftheweb.com\"><span class=\"sitestr\">thehistoryoftheweb.com</span></a>)</span></span></td></tr><tr><td colspan=\"2\"></td><td class=\"subtext\"><span class=\"subline\">\n",
      "          <span class=\"score\" id=\"score_38014069\">147 points</span> by <a href=\"user?id=Brajeshwar\" class=\"hnuser\">Brajeshwar</a> <span class=\"age\" title=\"2023-10-25T15:50:22\"><a href=\"item?id=38014069\">4 hours ago</a></span> <span id=\"unv_38014069\"></span> | <a href=\"hide?id=38014069&amp;goto=news\">hide</a> | <a href=\"item?id=38014069\">97&nbsp;comments</a>        </span>\n",
      "              </td></tr>\n",
      "      <tr class=\"spacer\" style=\"height:5px\"></tr>\n",
      "                <tr class='athing' id='38009372'>\n",
      "      <td align=\"right\" valign=\"top\" class=\"title\"><span class=\"rank\">24.</span></td>      <td valign=\"top\" class=\"votelinks\"><center><a id='up_38009372'href='vote?id=38009372&amp;how=up&amp;goto=news'><div class='votearrow' title='upvote'></div></a></center></td><td class=\"title\"><span class=\"titleline\"><a href=\"https://admccartney.mur.at/programming/idkproc/\" rel=\"noreferrer\">Not knowing the &#x2F;proc file system</a><span class=\"sitebit comhead\"> (<a href=\"from?site=admccartney.mur.at\"><span class=\"sitestr\">admccartney.mur.at</span></a>)</span></span></td></tr><tr><td colspan=\"2\"></td><td class=\"subtext\"><span class=\"subline\">\n",
      "          <span class=\"score\" id=\"score_38009372\">120 points</span> by <a href=\"user?id=adamcc\" class=\"hnuser\">adamcc</a> <span class=\"age\" title=\"2023-10-25T05:13:11\"><a href=\"item?id=38009372\">13 hours ago</a></span> <span id=\"unv_38009372\"></span> | <a href=\"hide?id=38009372&amp;goto=news\">hide</a> | <a href=\"item?id=38009372\">77&nbsp;comments</a>        </span>\n",
      "              </td></tr>\n",
      "      <tr class=\"spacer\" style=\"height:5px\"></tr>\n",
      "                <tr class='athing' id='38011432'>\n",
      "      <td align=\"right\" valign=\"top\" class=\"title\"><span class=\"rank\">25.</span></td>      <td valign=\"top\" class=\"votelinks\"><center><a id='up_38011432'href='vote?id=38011432&amp;how=up&amp;goto=news'><div class='votearrow' title='upvote'></div></a></center></td><td class=\"title\"><span class=\"titleline\"><a href=\"https://artistassistapp.com/\" rel=\"noreferrer\">Show HN: ArtistAssistApp – a web app to paint better with ease</a><span class=\"sitebit comhead\"> (<a href=\"from?site=artistassistapp.com\"><span class=\"sitestr\">artistassistapp.com</span></a>)</span></span></td></tr><tr><td colspan=\"2\"></td><td class=\"subtext\"><span class=\"subline\">\n",
      "          <span class=\"score\" id=\"score_38011432\">138 points</span> by <a href=\"user?id=eugene-khyst\" class=\"hnuser\">eugene-khyst</a> <span class=\"age\" title=\"2023-10-25T10:53:18\"><a href=\"item?id=38011432\">9 hours ago</a></span> <span id=\"unv_38011432\"></span> | <a href=\"hide?id=38011432&amp;goto=news\">hide</a> | <a href=\"item?id=38011432\">45&nbsp;comments</a>        </span>\n",
      "              </td></tr>\n",
      "      <tr class=\"spacer\" style=\"height:5px\"></tr>\n",
      "                <tr class='athing' id='38012742'>\n",
      "      <td align=\"right\" valign=\"top\" class=\"title\"><span class=\"rank\">26.</span></td>      <td valign=\"top\" class=\"votelinks\"><center><a id='up_38012742'href='vote?id=38012742&amp;how=up&amp;goto=news'><div class='votearrow' title='upvote'></div></a></center></td><td class=\"title\"><span class=\"titleline\"><a href=\"https://www.koyeb.com/blog/building-a-global-deployment-platform-is-hard-here-is-why\" rel=\"noreferrer\">Building a global deployment platform is hard – a tour of the trade-offs we took</a><span class=\"sitebit comhead\"> (<a href=\"from?site=koyeb.com\"><span class=\"sitestr\">koyeb.com</span></a>)</span></span></td></tr><tr><td colspan=\"2\"></td><td class=\"subtext\"><span class=\"subline\">\n",
      "          <span class=\"score\" id=\"score_38012742\">30 points</span> by <a href=\"user?id=nicoche\" class=\"hnuser\">nicoche</a> <span class=\"age\" title=\"2023-10-25T13:49:24\"><a href=\"item?id=38012742\">4 hours ago</a></span> <span id=\"unv_38012742\"></span> | <a href=\"hide?id=38012742&amp;goto=news\">hide</a> | <a href=\"item?id=38012742\">4&nbsp;comments</a>        </span>\n",
      "              </td></tr>\n",
      "      <tr class=\"spacer\" style=\"height:5px\"></tr>\n",
      "                <tr class='athing' id='38011085'>\n",
      "      <td align=\"right\" valign=\"top\" class=\"title\"><span class=\"rank\">27.</span></td>      <td><img src=\"s.gif\" height=\"1\" width=\"14\"></td>       <td class=\"title\"><span class=\"titleline\"><a href=\"https://jobs.lever.co/photoroom/fc379626-eb33-4eb6-839c-10e5d578e2ed?lever-origin=applied&amp;lever-source%5B%5D=yc\" rel=\"nofollow noreferrer\">PhotoRoom (YC S20) Is Hiring a Senior Developer in Paris (Rust, Wgpu)</a><span class=\"sitebit comhead\"> (<a href=\"from?site=lever.co\"><span class=\"sitestr\">lever.co</span></a>)</span></span></td></tr><tr><td colspan=\"2\"></td><td class=\"subtext\">\n",
      "        <span class=\"age\" title=\"2023-10-25T09:53:49\"><a href=\"item?id=38011085\">10 hours ago</a></span> | <a href=\"hide?id=38011085&amp;goto=news\">hide</a>      </td></tr>\n",
      "      <tr class=\"spacer\" style=\"height:5px\"></tr>\n",
      "                <tr class='athing' id='38014879'>\n",
      "      <td align=\"right\" valign=\"top\" class=\"title\"><span class=\"rank\">28.</span></td>      <td valign=\"top\" class=\"votelinks\"><center><a id='up_38014879'href='vote?id=38014879&amp;how=up&amp;goto=news'><div class='votearrow' title='upvote'></div></a></center></td><td class=\"title\"><span class=\"titleline\"><a href=\"https://blog.plover.com/prog/katara-advice.html\" rel=\"noreferrer\">Advice to a novice programmer</a><span class=\"sitebit comhead\"> (<a href=\"from?site=plover.com\"><span class=\"sitestr\">plover.com</span></a>)</span></span></td></tr><tr><td colspan=\"2\"></td><td class=\"subtext\"><span class=\"subline\">\n",
      "          <span class=\"score\" id=\"score_38014879\">75 points</span> by <a href=\"user?id=rrampage\" class=\"hnuser\">rrampage</a> <span class=\"age\" title=\"2023-10-25T16:50:29\"><a href=\"item?id=38014879\">3 hours ago</a></span> <span id=\"unv_38014879\"></span> | <a href=\"hide?id=38014879&amp;goto=news\">hide</a> | <a href=\"item?id=38014879\">77&nbsp;comments</a>        </span>\n",
      "              </td></tr>\n",
      "      <tr class=\"spacer\" style=\"height:5px\"></tr>\n",
      "                <tr class='athing' id='38011421'>\n",
      "      <td align=\"right\" valign=\"top\" class=\"title\"><span class=\"rank\">29.</span></td>      <td valign=\"top\" class=\"votelinks\"><center><a id='up_38011421'href='vote?id=38011421&amp;how=up&amp;goto=news'><div class='votearrow' title='upvote'></div></a></center></td><td class=\"title\"><span class=\"titleline\"><a href=\"https://github.com/rguiscard/fossil-notebook-demo\">Show HN: A note-keeping system on top of Fossil SCM</a><span class=\"sitebit comhead\"> (<a href=\"from?site=github.com/rguiscard\"><span class=\"sitestr\">github.com/rguiscard</span></a>)</span></span></td></tr><tr><td colspan=\"2\"></td><td class=\"subtext\"><span class=\"subline\">\n",
      "          <span class=\"score\" id=\"score_38011421\">91 points</span> by <a href=\"user?id=rguiscard\" class=\"hnuser\">rguiscard</a> <span class=\"age\" title=\"2023-10-25T10:51:27\"><a href=\"item?id=38011421\">9 hours ago</a></span> <span id=\"unv_38011421\"></span> | <a href=\"hide?id=38011421&amp;goto=news\">hide</a> | <a href=\"item?id=38011421\">15&nbsp;comments</a>        </span>\n",
      "              </td></tr>\n",
      "      <tr class=\"spacer\" style=\"height:5px\"></tr>\n",
      "                <tr class='athing' id='38012311'>\n",
      "      <td align=\"right\" valign=\"top\" class=\"title\"><span class=\"rank\">30.</span></td>      <td valign=\"top\" class=\"votelinks\"><center><a id='up_38012311'href='vote?id=38012311&amp;how=up&amp;goto=news'><div class='votearrow' title='upvote'></div></a></center></td><td class=\"title\"><span class=\"titleline\"><a href=\"https://github.com/orbitalapi/orbital\">Show HN: Orbital – Dynamically unifying APIs and data with no glue code</a><span class=\"sitebit comhead\"> (<a href=\"from?site=github.com/orbitalapi\"><span class=\"sitestr\">github.com/orbitalapi</span></a>)</span></span></td></tr><tr><td colspan=\"2\"></td><td class=\"subtext\"><span class=\"subline\">\n",
      "          <span class=\"score\" id=\"score_38012311\">75 points</span> by <a href=\"user?id=martypitt\" class=\"hnuser\">martypitt</a> <span class=\"age\" title=\"2023-10-25T12:59:39\"><a href=\"item?id=38012311\">7 hours ago</a></span> <span id=\"unv_38012311\"></span> | <a href=\"hide?id=38012311&amp;goto=news\">hide</a> | <a href=\"item?id=38012311\">9&nbsp;comments</a>        </span>\n",
      "              </td></tr>\n",
      "      <tr class=\"spacer\" style=\"height:5px\"></tr>\n",
      "            <tr class=\"morespace\" style=\"height:10px\"></tr><tr><td colspan=\"2\"></td>\n",
      "      <td class='title'><a href='?p=2' class='morelink' rel='next'>More</a></td>    </tr>\n",
      "  </table>\n",
      "</td></tr>\n",
      "<tr><td><img src=\"s.gif\" height=\"10\" width=\"0\"><table width=\"100%\" cellspacing=\"0\" cellpadding=\"1\"><tr><td bgcolor=\"#ff6600\"></td></tr></table><br>\n",
      "<center><span class=\"yclinks\"><a href=\"newsguidelines.html\">Guidelines</a> | <a href=\"newsfaq.html\">FAQ</a> | <a href=\"lists\">Lists</a> | <a href=\"https://github.com/HackerNews/API\">API</a> | <a href=\"security.html\">Security</a> | <a href=\"https://www.ycombinator.com/legal/\">Legal</a> | <a href=\"https://www.ycombinator.com/apply/\">Apply to YC</a> | <a href=\"mailto:hn@ycombinator.com\">Contact</a></span><br><br>\n",
      "<form method=\"get\" action=\"//hn.algolia.com/\">Search: <input type=\"text\" name=\"q\" size=\"17\" autocorrect=\"off\" spellcheck=\"false\" autocapitalize=\"off\" autocomplete=\"false\"></form></center></td></tr>      </table></center></body>\n",
      "      <script type='text/javascript' src='hn.js?lv4iqE1LZP0IXr4FPnmv'></script>\n",
      "  </html>\n",
      "\n"
     ]
    }
   ],
   "source": [
    "import requests\n",
    "\n",
    "# Fetch a web page\n",
    "r = requests.get(\"https://news.ycombinator.com\")\n",
    "print(r.text)"
   ]
  },
  {
   "cell_type": "code",
   "execution_count": 12,
   "metadata": {},
   "outputs": [
    {
     "name": "stdout",
     "output_type": "stream",
     "text": [
      "\n",
      "        \n",
      "          \n",
      "        Hacker News\n",
      "        \n",
      "                  Hacker News\n",
      "                            new | past | comments | ask | show | jobs | submit            \n",
      "                              login\n",
      "                          \n",
      "              \n",
      "\n",
      "            \n",
      "      1.      iLeakage: Browser-Based Timerless Speculative Execution Attacks on Apple Devices (ileakage.com)\n",
      "          248 points by aw1621107 3 hours ago  | hide | 111&nbsp;comments        \n",
      "              \n",
      "      \n",
      "                \n",
      "      2.      Helix 23.10 Highlights (helix-editor.com)\n",
      "          56 points by todsacerdoti 45 minutes ago  | hide | 12&nbsp;comments        \n",
      "              \n",
      "      \n",
      "                \n",
      "      3.      The Cost of Cloud, a Trillion Dollar Paradox (a16z.com)\n",
      "          45 points by lnwlebjel 1 hour ago  | hide | 25&nbsp;comments        \n",
      "              \n",
      "      \n",
      "                \n",
      "      4.      Ask HN: PG&#x27;s &#x27;Do Things That Don&#x27;t Scale&#x27; manual examples?\n",
      "          93 points by nicgrev103 3 hours ago  | hide | 70&nbsp;comments        \n",
      "              \n",
      "      \n",
      "                \n",
      "      5.      Meta Reports Third Quarter 2023 Results (fb.com)\n",
      "          13 points by loeg 22 minutes ago  | hide | 8&nbsp;comments        \n",
      "              \n",
      "      \n",
      "                \n",
      "      6.      Show HN: OpenAPI DevTools – Chrome extension that generates an API spec (github.com/andrewwalsh)\n",
      "          599 points by mrmagoo2 8 hours ago  | hide | 74&nbsp;comments        \n",
      "              \n",
      "      \n",
      "                \n",
      "      7.      AI &#x27;breakthrough&#x27;: neural net has human-like ability to generalize language (nature.com)\n",
      "          23 points by drcwpl 1 hour ago  | hide | 10&nbsp;comments        \n",
      "              \n",
      "      \n",
      "                \n",
      "      8.      Show HN: JellyBox – Jellyfin Desktop Client(beta) (testflight.apple.com)\n",
      "          30 points by avdept 1 hour ago  | hide | 19&nbsp;comments        \n",
      "              \n",
      "      \n",
      "                \n",
      "      9.      Adding crushed rock to farmland pulls carbon out of the air (ucdavis.edu)\n",
      "          148 points by geox 3 hours ago  | hide | 132&nbsp;comments        \n",
      "              \n",
      "      \n",
      "                \n",
      "      10.      Drought in Brazil&#x27;s Amazon reveals ancient engravings (phys.org)\n",
      "          49 points by wglb 3 hours ago  | hide | 23&nbsp;comments        \n",
      "              \n",
      "      \n",
      "                \n",
      "      11.      &#x27;When I tried to play, my hand spasmed and shook&#x27;: why musicians get the yips (theguardian.com)\n",
      "          9 points by tintinnabula 1 hour ago  | hide | discuss        \n",
      "              \n",
      "      \n",
      "                \n",
      "      12.      ReactAgent: LLM Agent for React Coding (reactagent.io)\n",
      "          54 points by omarfarooq 4 hours ago  | hide | 18&nbsp;comments        \n",
      "              \n",
      "      \n",
      "                \n",
      "      13.      Internet Artifact Museum (neal.fun)\n",
      "          103 points by meetpateltech 5 hours ago  | hide | 26&nbsp;comments        \n",
      "              \n",
      "      \n",
      "                \n",
      "      14.      SpaceX Starship Super Heavy Project at the Boca Chica Launch Site (faa.gov)\n",
      "          87 points by peter_d_sherman 5 hours ago  | hide | 215&nbsp;comments        \n",
      "              \n",
      "      \n",
      "                \n",
      "      15.      An aborted experiment with server Swift (tedunangst.com)\n",
      "          126 points by ibotty 6 hours ago  | hide | 44&nbsp;comments        \n",
      "              \n",
      "      \n",
      "                \n",
      "      16.      PyPI Security (talkpython.fm)\n",
      "          20 points by SethMLarson 1 hour ago  | hide | 3&nbsp;comments        \n",
      "              \n",
      "      \n",
      "                \n",
      "      17.      Unpacking Elixir: Observability (underjord.io)\n",
      "          57 points by lawik 3 hours ago  | hide | 7&nbsp;comments        \n",
      "              \n",
      "      \n",
      "                \n",
      "      18.      The Case of a Curious SQL Query (buttondown.email/jaffray)\n",
      "          31 points by petercooper 1 hour ago  | hide | 4&nbsp;comments        \n",
      "              \n",
      "      \n",
      "                \n",
      "      19.      The human body has 1.8T cells dedicated to defending it (elpais.com)\n",
      "          98 points by belter 7 hours ago  | hide | 56&nbsp;comments        \n",
      "              \n",
      "      \n",
      "                \n",
      "      20.      What Transport for London can learn about us from our mobile data (jamesomalley.co.uk)\n",
      "          73 points by edent 5 hours ago  | hide | 48&nbsp;comments        \n",
      "              \n",
      "      \n",
      "                \n",
      "      21.      First malaria vaccine reduces early childhood mortality (science.org)\n",
      "          290 points by rbanffy 8 hours ago  | hide | 94&nbsp;comments        \n",
      "              \n",
      "      \n",
      "                \n",
      "      22.      Towards Understanding Sycophancy in Language Models (arxiv.org)\n",
      "          19 points by wawayanda 2 hours ago  | hide | 13&nbsp;comments        \n",
      "              \n",
      "      \n",
      "                \n",
      "      23.      Wait, what&#x27;s a bookmarklet? (thehistoryoftheweb.com)\n",
      "          147 points by Brajeshwar 4 hours ago  | hide | 97&nbsp;comments        \n",
      "              \n",
      "      \n",
      "                \n",
      "      24.      Not knowing the &#x2F;proc file system (admccartney.mur.at)\n",
      "          120 points by adamcc 13 hours ago  | hide | 77&nbsp;comments        \n",
      "              \n",
      "      \n",
      "                \n",
      "      25.      Show HN: ArtistAssistApp – a web app to paint better with ease (artistassistapp.com)\n",
      "          138 points by eugene-khyst 9 hours ago  | hide | 45&nbsp;comments        \n",
      "              \n",
      "      \n",
      "                \n",
      "      26.      Building a global deployment platform is hard – a tour of the trade-offs we took (koyeb.com)\n",
      "          30 points by nicoche 4 hours ago  | hide | 4&nbsp;comments        \n",
      "              \n",
      "      \n",
      "                \n",
      "      27.             PhotoRoom (YC S20) Is Hiring a Senior Developer in Paris (Rust, Wgpu) (lever.co)\n",
      "        10 hours ago | hide      \n",
      "      \n",
      "                \n",
      "      28.      Advice to a novice programmer (plover.com)\n",
      "          75 points by rrampage 3 hours ago  | hide | 77&nbsp;comments        \n",
      "              \n",
      "      \n",
      "                \n",
      "      29.      Show HN: A note-keeping system on top of Fossil SCM (github.com/rguiscard)\n",
      "          91 points by rguiscard 9 hours ago  | hide | 15&nbsp;comments        \n",
      "              \n",
      "      \n",
      "                \n",
      "      30.      Show HN: Orbital – Dynamically unifying APIs and data with no glue code (github.com/orbitalapi)\n",
      "          75 points by martypitt 7 hours ago  | hide | 9&nbsp;comments        \n",
      "              \n",
      "      \n",
      "            \n",
      "      More    \n",
      "  \n",
      "\n",
      "\n",
      "Guidelines | FAQ | Lists | API | Security | Legal | Apply to YC | Contact\n",
      "Search:       \n",
      "      \n",
      "  \n",
      "\n"
     ]
    }
   ],
   "source": [
    "import re\n",
    "\n",
    "# Remove HTML tags using RegEx\n",
    "pattern = re.compile(r'<.*?>')  # tags look like <...>\n",
    "print(pattern.sub('', r.text))  # replace them with blank"
   ]
  },
  {
   "cell_type": "code",
   "execution_count": 13,
   "metadata": {},
   "outputs": [
    {
     "name": "stdout",
     "output_type": "stream",
     "text": [
      "\u001b[33mWARNING: Skipping /Users/nahmed4/anaconda3/envs/py311conenv/lib/python3.11/site-packages/urllib3-1.26.16.dist-info due to invalid metadata entry 'name'\u001b[0m\u001b[33m\n",
      "\u001b[0m\u001b[33mWARNING: Skipping /Users/nahmed4/anaconda3/envs/py311conenv/lib/python3.11/site-packages/urllib3-1.26.16.dist-info due to invalid metadata entry 'name'\u001b[0m\u001b[33m\n",
      "\u001b[0mRequirement already satisfied: html5lib in /Users/nahmed4/anaconda3/envs/py311conenv/lib/python3.11/site-packages (1.1)\n",
      "Requirement already satisfied: six>=1.9 in /Users/nahmed4/anaconda3/envs/py311conenv/lib/python3.11/site-packages (from html5lib) (1.16.0)\n",
      "Requirement already satisfied: webencodings in /Users/nahmed4/anaconda3/envs/py311conenv/lib/python3.11/site-packages (from html5lib) (0.5.1)\n",
      "\u001b[33mWARNING: Skipping /Users/nahmed4/anaconda3/envs/py311conenv/lib/python3.11/site-packages/urllib3-1.26.16.dist-info due to invalid metadata entry 'name'\u001b[0m\u001b[33m\n",
      "\u001b[0m\u001b[33mWARNING: Skipping /Users/nahmed4/anaconda3/envs/py311conenv/lib/python3.11/site-packages/urllib3-1.26.16.dist-info due to invalid metadata entry 'name'\u001b[0m\u001b[33m\n",
      "\u001b[0m\u001b[33mWARNING: Skipping /Users/nahmed4/anaconda3/envs/py311conenv/lib/python3.11/site-packages/urllib3-1.26.16.dist-info due to invalid metadata entry 'name'\u001b[0m\u001b[33m\n",
      "\u001b[0m\u001b[33mWARNING: Skipping /Users/nahmed4/anaconda3/envs/py311conenv/lib/python3.11/site-packages/urllib3-1.26.16.dist-info due to invalid metadata entry 'name'\u001b[0m\u001b[33m\n",
      "\u001b[0m"
     ]
    }
   ],
   "source": [
    "!pip install html5lib"
   ]
  },
  {
   "cell_type": "code",
   "execution_count": 14,
   "metadata": {},
   "outputs": [
    {
     "name": "stdout",
     "output_type": "stream",
     "text": [
      "\n",
      "        \n",
      "          \n",
      "        Hacker News\n",
      "        \n",
      "                  Hacker News\n",
      "                            new | past | comments | ask | show | jobs | submit            \n",
      "                              login\n",
      "                          \n",
      "              \n",
      "\n",
      "            \n",
      "      1.      iLeakage: Browser-Based Timerless Speculative Execution Attacks on Apple Devices (ileakage.com)\n",
      "          248 points by aw1621107 3 hours ago  | hide | 111 comments        \n",
      "              \n",
      "      \n",
      "                \n",
      "      2.      Helix 23.10 Highlights (helix-editor.com)\n",
      "          56 points by todsacerdoti 45 minutes ago  | hide | 12 comments        \n",
      "              \n",
      "      \n",
      "                \n",
      "      3.      The Cost of Cloud, a Trillion Dollar Paradox (a16z.com)\n",
      "          45 points by lnwlebjel 1 hour ago  | hide | 25 comments        \n",
      "              \n",
      "      \n",
      "                \n",
      "      4.      Ask HN: PG's 'Do Things That Don't Scale' manual examples?\n",
      "          93 points by nicgrev103 3 hours ago  | hide | 70 comments        \n",
      "              \n",
      "      \n",
      "                \n",
      "      5.      Meta Reports Third Quarter 2023 Results (fb.com)\n",
      "          13 points by loeg 22 minutes ago  | hide | 8 comments        \n",
      "              \n",
      "      \n",
      "                \n",
      "      6.      Show HN: OpenAPI DevTools – Chrome extension that generates an API spec (github.com/andrewwalsh)\n",
      "          599 points by mrmagoo2 8 hours ago  | hide | 74 comments        \n",
      "              \n",
      "      \n",
      "                \n",
      "      7.      AI 'breakthrough': neural net has human-like ability to generalize language (nature.com)\n",
      "          23 points by drcwpl 1 hour ago  | hide | 10 comments        \n",
      "              \n",
      "      \n",
      "                \n",
      "      8.      Show HN: JellyBox – Jellyfin Desktop Client(beta) (testflight.apple.com)\n",
      "          30 points by avdept 1 hour ago  | hide | 19 comments        \n",
      "              \n",
      "      \n",
      "                \n",
      "      9.      Adding crushed rock to farmland pulls carbon out of the air (ucdavis.edu)\n",
      "          148 points by geox 3 hours ago  | hide | 132 comments        \n",
      "              \n",
      "      \n",
      "                \n",
      "      10.      Drought in Brazil's Amazon reveals ancient engravings (phys.org)\n",
      "          49 points by wglb 3 hours ago  | hide | 23 comments        \n",
      "              \n",
      "      \n",
      "                \n",
      "      11.      'When I tried to play, my hand spasmed and shook': why musicians get the yips (theguardian.com)\n",
      "          9 points by tintinnabula 1 hour ago  | hide | discuss        \n",
      "              \n",
      "      \n",
      "                \n",
      "      12.      ReactAgent: LLM Agent for React Coding (reactagent.io)\n",
      "          54 points by omarfarooq 4 hours ago  | hide | 18 comments        \n",
      "              \n",
      "      \n",
      "                \n",
      "      13.      Internet Artifact Museum (neal.fun)\n",
      "          103 points by meetpateltech 5 hours ago  | hide | 26 comments        \n",
      "              \n",
      "      \n",
      "                \n",
      "      14.      SpaceX Starship Super Heavy Project at the Boca Chica Launch Site (faa.gov)\n",
      "          87 points by peter_d_sherman 5 hours ago  | hide | 215 comments        \n",
      "              \n",
      "      \n",
      "                \n",
      "      15.      An aborted experiment with server Swift (tedunangst.com)\n",
      "          126 points by ibotty 6 hours ago  | hide | 44 comments        \n",
      "              \n",
      "      \n",
      "                \n",
      "      16.      PyPI Security (talkpython.fm)\n",
      "          20 points by SethMLarson 1 hour ago  | hide | 3 comments        \n",
      "              \n",
      "      \n",
      "                \n",
      "      17.      Unpacking Elixir: Observability (underjord.io)\n",
      "          57 points by lawik 3 hours ago  | hide | 7 comments        \n",
      "              \n",
      "      \n",
      "                \n",
      "      18.      The Case of a Curious SQL Query (buttondown.email/jaffray)\n",
      "          31 points by petercooper 1 hour ago  | hide | 4 comments        \n",
      "              \n",
      "      \n",
      "                \n",
      "      19.      The human body has 1.8T cells dedicated to defending it (elpais.com)\n",
      "          98 points by belter 7 hours ago  | hide | 56 comments        \n",
      "              \n",
      "      \n",
      "                \n",
      "      20.      What Transport for London can learn about us from our mobile data (jamesomalley.co.uk)\n",
      "          73 points by edent 5 hours ago  | hide | 48 comments        \n",
      "              \n",
      "      \n",
      "                \n",
      "      21.      First malaria vaccine reduces early childhood mortality (science.org)\n",
      "          290 points by rbanffy 8 hours ago  | hide | 94 comments        \n",
      "              \n",
      "      \n",
      "                \n",
      "      22.      Towards Understanding Sycophancy in Language Models (arxiv.org)\n",
      "          19 points by wawayanda 2 hours ago  | hide | 13 comments        \n",
      "              \n",
      "      \n",
      "                \n",
      "      23.      Wait, what's a bookmarklet? (thehistoryoftheweb.com)\n",
      "          147 points by Brajeshwar 4 hours ago  | hide | 97 comments        \n",
      "              \n",
      "      \n",
      "                \n",
      "      24.      Not knowing the /proc file system (admccartney.mur.at)\n",
      "          120 points by adamcc 13 hours ago  | hide | 77 comments        \n",
      "              \n",
      "      \n",
      "                \n",
      "      25.      Show HN: ArtistAssistApp – a web app to paint better with ease (artistassistapp.com)\n",
      "          138 points by eugene-khyst 9 hours ago  | hide | 45 comments        \n",
      "              \n",
      "      \n",
      "                \n",
      "      26.      Building a global deployment platform is hard – a tour of the trade-offs we took (koyeb.com)\n",
      "          30 points by nicoche 4 hours ago  | hide | 4 comments        \n",
      "              \n",
      "      \n",
      "                \n",
      "      27.             PhotoRoom (YC S20) Is Hiring a Senior Developer in Paris (Rust, Wgpu) (lever.co)\n",
      "        10 hours ago | hide      \n",
      "      \n",
      "                \n",
      "      28.      Advice to a novice programmer (plover.com)\n",
      "          75 points by rrampage 3 hours ago  | hide | 77 comments        \n",
      "              \n",
      "      \n",
      "                \n",
      "      29.      Show HN: A note-keeping system on top of Fossil SCM (github.com/rguiscard)\n",
      "          91 points by rguiscard 9 hours ago  | hide | 15 comments        \n",
      "              \n",
      "      \n",
      "                \n",
      "      30.      Show HN: Orbital – Dynamically unifying APIs and data with no glue code (github.com/orbitalapi)\n",
      "          75 points by martypitt 7 hours ago  | hide | 9 comments        \n",
      "              \n",
      "      \n",
      "            \n",
      "      More    \n",
      "  \n",
      "\n",
      "\n",
      "Guidelines | FAQ | Lists | API | Security | Legal | Apply to YC | Contact\n",
      "Search:       \n",
      "      \n",
      "  \n",
      "\n"
     ]
    }
   ],
   "source": [
    "from bs4 import BeautifulSoup\n",
    "\n",
    "# Remove HTML tags using Beautiful Soup library\n",
    "soup = BeautifulSoup(r.text, \"html5lib\")\n",
    "print(soup.get_text())"
   ]
  },
  {
   "cell_type": "code",
   "execution_count": 15,
   "metadata": {
    "scrolled": true
   },
   "outputs": [
    {
     "data": {
      "text/plain": [
       "<tr class=\"athing\" id=\"38015277\">\n",
       "      <td align=\"right\" class=\"title\" valign=\"top\"><span class=\"rank\">1.</span></td>      <td class=\"votelinks\" valign=\"top\"><center><a href=\"vote?id=38015277&amp;how=up&amp;goto=news\" id=\"up_38015277\"><div class=\"votearrow\" title=\"upvote\"></div></a></center></td><td class=\"title\"><span class=\"titleline\"><a href=\"https://ileakage.com/\" rel=\"noreferrer\">iLeakage: Browser-Based Timerless Speculative Execution Attacks on Apple Devices</a><span class=\"sitebit comhead\"> (<a href=\"from?site=ileakage.com\"><span class=\"sitestr\">ileakage.com</span></a>)</span></span></td></tr>"
      ]
     },
     "execution_count": 15,
     "metadata": {},
     "output_type": "execute_result"
    }
   ],
   "source": [
    "# Find all articles\n",
    "summaries = soup.find_all(\"tr\", class_=\"athing\")\n",
    "summaries[0]"
   ]
  },
  {
   "cell_type": "code",
   "execution_count": 16,
   "metadata": {},
   "outputs": [
    {
     "data": {
      "text/plain": [
       "'iLeakage: Browser-Based Timerless Speculative Execution Attacks on Apple Devices (ileakage.com)'"
      ]
     },
     "execution_count": 16,
     "metadata": {},
     "output_type": "execute_result"
    }
   ],
   "source": [
    "# Extract title\n",
    "# summaries[0].find(\"a\", class_=\"titlelink\").get_text().strip()\n",
    "\n",
    "# Extract title\n",
    "summaries[0].find(\"span\", class_=\"titleline\").get_text().strip()"
   ]
  },
  {
   "cell_type": "code",
   "execution_count": 17,
   "metadata": {},
   "outputs": [
    {
     "name": "stdout",
     "output_type": "stream",
     "text": [
      "30 Article summaries found. Sample:\n",
      "iLeakage: Browser-Based Timerless Speculative Execution Attacks on Apple Devices (ileakage.com)\n"
     ]
    }
   ],
   "source": [
    "# Find all articles, extract titles\n",
    "articles = []\n",
    "summaries = soup.find_all(\"tr\", class_=\"athing\")\n",
    "for summary in summaries:\n",
    "    # title = summary.find(\"a\", class_=\"titlelink\").get_text().strip()\n",
    "    title = summary.find(\"span\", class_=\"titleline\").get_text().strip()\n",
    "    articles.append((title))\n",
    "\n",
    "print(len(articles), \"Article summaries found. Sample:\")\n",
    "print(articles[0])"
   ]
  },
  {
   "cell_type": "markdown",
   "metadata": {
    "collapsed": true
   },
   "source": [
    "## Normalization"
   ]
  },
  {
   "cell_type": "markdown",
   "metadata": {},
   "source": [
    "### Case Normalization"
   ]
  },
  {
   "cell_type": "code",
   "execution_count": 18,
   "metadata": {},
   "outputs": [
    {
     "name": "stdout",
     "output_type": "stream",
     "text": [
      "The first time you see The Second Renaissance it may look boring. Look at it at least twice and definitely watch part 2. It will change your view of the matrix. Are the human people the ones who started the war ? Is AI a bad thing ?\n"
     ]
    }
   ],
   "source": [
    "# Sample text\n",
    "text = \"The first time you see The Second Renaissance it may look boring. Look at it at least twice and definitely watch part 2. It will change your view of the matrix. Are the human people the ones who started the war ? Is AI a bad thing ?\"\n",
    "print(text)"
   ]
  },
  {
   "cell_type": "code",
   "execution_count": 19,
   "metadata": {},
   "outputs": [
    {
     "name": "stdout",
     "output_type": "stream",
     "text": [
      "the first time you see the second renaissance it may look boring. look at it at least twice and definitely watch part 2. it will change your view of the matrix. are the human people the ones who started the war ? is ai a bad thing ?\n"
     ]
    }
   ],
   "source": [
    "# Convert to lowercase\n",
    "text = text.lower() \n",
    "print(text)"
   ]
  },
  {
   "cell_type": "markdown",
   "metadata": {},
   "source": [
    "### Punctuation Removal"
   ]
  },
  {
   "cell_type": "code",
   "execution_count": 20,
   "metadata": {},
   "outputs": [
    {
     "name": "stdout",
     "output_type": "stream",
     "text": [
      "the first time you see the second renaissance it may look boring  look at it at least twice and definitely watch part 2  it will change your view of the matrix  are the human people the ones who started the war   is ai a bad thing  \n"
     ]
    }
   ],
   "source": [
    "import re\n",
    "\n",
    "# Remove punctuation characters\n",
    "text = re.sub(r\"[^a-zA-Z0-9]\", \" \", text) \n",
    "print(text)"
   ]
  },
  {
   "cell_type": "markdown",
   "metadata": {},
   "source": [
    "## Tokenization"
   ]
  },
  {
   "cell_type": "code",
   "execution_count": 21,
   "metadata": {},
   "outputs": [
    {
     "name": "stdout",
     "output_type": "stream",
     "text": [
      "['the', 'first', 'time', 'you', 'see', 'the', 'second', 'renaissance', 'it', 'may', 'look', 'boring', 'look', 'at', 'it', 'at', 'least', 'twice', 'and', 'definitely', 'watch', 'part', '2', 'it', 'will', 'change', 'your', 'view', 'of', 'the', 'matrix', 'are', 'the', 'human', 'people', 'the', 'ones', 'who', 'started', 'the', 'war', 'is', 'ai', 'a', 'bad', 'thing']\n"
     ]
    }
   ],
   "source": [
    "# Split text into tokens (words)\n",
    "words = text.split()\n",
    "print(words)"
   ]
  },
  {
   "cell_type": "markdown",
   "metadata": {},
   "source": [
    "### NLTK: Natural Language ToolKit"
   ]
  },
  {
   "cell_type": "code",
   "execution_count": 22,
   "metadata": {},
   "outputs": [
    {
     "name": "stdout",
     "output_type": "stream",
     "text": [
      "\u001b[33mWARNING: Skipping /Users/nahmed4/anaconda3/envs/py311conenv/lib/python3.11/site-packages/urllib3-1.26.16.dist-info due to invalid metadata entry 'name'\u001b[0m\u001b[33m\n",
      "\u001b[0m\u001b[33mWARNING: Skipping /Users/nahmed4/anaconda3/envs/py311conenv/lib/python3.11/site-packages/urllib3-1.26.16.dist-info due to invalid metadata entry 'name'\u001b[0m\u001b[33m\n",
      "\u001b[0mRequirement already satisfied: nltk in /Users/nahmed4/anaconda3/envs/py311conenv/lib/python3.11/site-packages (3.8.1)\n",
      "Requirement already satisfied: click in /Users/nahmed4/anaconda3/envs/py311conenv/lib/python3.11/site-packages (from nltk) (8.1.3)\n",
      "Requirement already satisfied: joblib in /Users/nahmed4/anaconda3/envs/py311conenv/lib/python3.11/site-packages (from nltk) (1.3.2)\n",
      "Requirement already satisfied: regex>=2021.8.3 in /Users/nahmed4/anaconda3/envs/py311conenv/lib/python3.11/site-packages (from nltk) (2022.10.31)\n",
      "Requirement already satisfied: tqdm in /Users/nahmed4/anaconda3/envs/py311conenv/lib/python3.11/site-packages (from nltk) (4.65.0)\n",
      "\u001b[33mWARNING: Skipping /Users/nahmed4/anaconda3/envs/py311conenv/lib/python3.11/site-packages/urllib3-1.26.16.dist-info due to invalid metadata entry 'name'\u001b[0m\u001b[33m\n",
      "\u001b[0m\u001b[33mWARNING: Skipping /Users/nahmed4/anaconda3/envs/py311conenv/lib/python3.11/site-packages/urllib3-1.26.16.dist-info due to invalid metadata entry 'name'\u001b[0m\u001b[33m\n",
      "\u001b[0m\u001b[33mWARNING: Skipping /Users/nahmed4/anaconda3/envs/py311conenv/lib/python3.11/site-packages/urllib3-1.26.16.dist-info due to invalid metadata entry 'name'\u001b[0m\u001b[33m\n",
      "\u001b[0m\u001b[33mWARNING: Skipping /Users/nahmed4/anaconda3/envs/py311conenv/lib/python3.11/site-packages/urllib3-1.26.16.dist-info due to invalid metadata entry 'name'\u001b[0m\u001b[33m\n",
      "\u001b[0m"
     ]
    }
   ],
   "source": [
    "!pip install nltk"
   ]
  },
  {
   "cell_type": "code",
   "execution_count": 26,
   "metadata": {},
   "outputs": [
    {
     "name": "stdout",
     "output_type": "stream",
     "text": [
      "/Users/nahmed4/Documents/optumrx/github/public/udacity/cd0377-Introduction-to-Natural-Language-Processing/lesson-2-text-processing/exercises/starter\n",
      "/Users/nahmed4/Documents/optumrx/github/public/udacity/cd0377-Introduction-to-Natural-Language-Processing\n"
     ]
    }
   ],
   "source": [
    "import os  \n",
    "  \n",
    "# print current working directory  \n",
    "print(os.getcwd())  \n",
    "  \n",
    "# switch to a new directory  \n",
    "os.chdir('../../../')  \n",
    "  \n",
    "# print new working directory  \n",
    "print(os.getcwd())  \n"
   ]
  },
  {
   "cell_type": "code",
   "execution_count": 27,
   "metadata": {},
   "outputs": [
    {
     "data": {
      "text/plain": [
       "'/Users/nahmed4/Documents/optumrx/github/public/udacity/cd0377-Introduction-to-Natural-Language-Processing'"
      ]
     },
     "execution_count": 27,
     "metadata": {},
     "output_type": "execute_result"
    }
   ],
   "source": [
    "os.getcwd()"
   ]
  },
  {
   "cell_type": "code",
   "execution_count": 28,
   "metadata": {},
   "outputs": [],
   "source": [
    "import os\n",
    "import nltk\n",
    "nltk.data.path.append(os.path.join(os.getcwd(), \"nltk_data\"))"
   ]
  },
  {
   "cell_type": "code",
   "execution_count": 29,
   "metadata": {},
   "outputs": [
    {
     "name": "stdout",
     "output_type": "stream",
     "text": [
      "Dr. Smith graduated from the University of Washington. He later started an analytics firm called Lux, which catered to enterprise customers.\n"
     ]
    }
   ],
   "source": [
    "# Another sample text\n",
    "text = \"Dr. Smith graduated from the University of Washington. He later started an analytics firm called Lux, which catered to enterprise customers.\"\n",
    "print(text)"
   ]
  },
  {
   "cell_type": "code",
   "execution_count": 30,
   "metadata": {},
   "outputs": [
    {
     "name": "stdout",
     "output_type": "stream",
     "text": [
      "['Dr.', 'Smith', 'graduated', 'from', 'the', 'University', 'of', 'Washington', '.', 'He', 'later', 'started', 'an', 'analytics', 'firm', 'called', 'Lux', ',', 'which', 'catered', 'to', 'enterprise', 'customers', '.']\n"
     ]
    }
   ],
   "source": [
    "from nltk.tokenize import word_tokenize\n",
    "\n",
    "# Split text into words using NLTK\n",
    "words = word_tokenize(text)\n",
    "print(words)"
   ]
  },
  {
   "cell_type": "code",
   "execution_count": 31,
   "metadata": {},
   "outputs": [
    {
     "name": "stdout",
     "output_type": "stream",
     "text": [
      "['Dr. Smith graduated from the University of Washington.', 'He later started an analytics firm called Lux, which catered to enterprise customers.']\n"
     ]
    }
   ],
   "source": [
    "from nltk.tokenize import sent_tokenize\n",
    "\n",
    "# Split text into sentences\n",
    "sentences = sent_tokenize(text)\n",
    "print(sentences)"
   ]
  },
  {
   "cell_type": "code",
   "execution_count": 32,
   "metadata": {},
   "outputs": [
    {
     "name": "stdout",
     "output_type": "stream",
     "text": [
      "['i', 'me', 'my', 'myself', 'we', 'our', 'ours', 'ourselves', 'you', \"you're\", \"you've\", \"you'll\", \"you'd\", 'your', 'yours', 'yourself', 'yourselves', 'he', 'him', 'his', 'himself', 'she', \"she's\", 'her', 'hers', 'herself', 'it', \"it's\", 'its', 'itself', 'they', 'them', 'their', 'theirs', 'themselves', 'what', 'which', 'who', 'whom', 'this', 'that', \"that'll\", 'these', 'those', 'am', 'is', 'are', 'was', 'were', 'be', 'been', 'being', 'have', 'has', 'had', 'having', 'do', 'does', 'did', 'doing', 'a', 'an', 'the', 'and', 'but', 'if', 'or', 'because', 'as', 'until', 'while', 'of', 'at', 'by', 'for', 'with', 'about', 'against', 'between', 'into', 'through', 'during', 'before', 'after', 'above', 'below', 'to', 'from', 'up', 'down', 'in', 'out', 'on', 'off', 'over', 'under', 'again', 'further', 'then', 'once', 'here', 'there', 'when', 'where', 'why', 'how', 'all', 'any', 'both', 'each', 'few', 'more', 'most', 'other', 'some', 'such', 'no', 'nor', 'not', 'only', 'own', 'same', 'so', 'than', 'too', 'very', 's', 't', 'can', 'will', 'just', 'don', \"don't\", 'should', \"should've\", 'now', 'd', 'll', 'm', 'o', 're', 've', 'y', 'ain', 'aren', \"aren't\", 'couldn', \"couldn't\", 'didn', \"didn't\", 'doesn', \"doesn't\", 'hadn', \"hadn't\", 'hasn', \"hasn't\", 'haven', \"haven't\", 'isn', \"isn't\", 'ma', 'mightn', \"mightn't\", 'mustn', \"mustn't\", 'needn', \"needn't\", 'shan', \"shan't\", 'shouldn', \"shouldn't\", 'wasn', \"wasn't\", 'weren', \"weren't\", 'won', \"won't\", 'wouldn', \"wouldn't\"]\n"
     ]
    }
   ],
   "source": [
    "# List stop words\n",
    "from nltk.corpus import stopwords\n",
    "print(stopwords.words(\"english\"))"
   ]
  },
  {
   "cell_type": "code",
   "execution_count": 33,
   "metadata": {},
   "outputs": [
    {
     "name": "stdout",
     "output_type": "stream",
     "text": [
      "['the', 'first', 'time', 'you', 'see', 'the', 'second', 'renaissance', 'it', 'may', 'look', 'boring', 'look', 'at', 'it', 'at', 'least', 'twice', 'and', 'definitely', 'watch', 'part', '2', 'it', 'will', 'change', 'your', 'view', 'of', 'the', 'matrix', 'are', 'the', 'human', 'people', 'the', 'ones', 'who', 'started', 'the', 'war', 'is', 'ai', 'a', 'bad', 'thing']\n"
     ]
    }
   ],
   "source": [
    "# Reset text\n",
    "text = \"The first time you see The Second Renaissance it may look boring. Look at it at least twice and definitely watch part 2. It will change your view of the matrix. Are the human people the ones who started the war ? Is AI a bad thing ?\"\n",
    "\n",
    "# Normalize it\n",
    "text = re.sub(r\"[^a-zA-Z0-9]\", \" \", text.lower())\n",
    "\n",
    "# Tokenize it\n",
    "words = text.split()\n",
    "print(words)"
   ]
  },
  {
   "cell_type": "code",
   "execution_count": 34,
   "metadata": {},
   "outputs": [
    {
     "name": "stdout",
     "output_type": "stream",
     "text": [
      "['first', 'time', 'see', 'second', 'renaissance', 'may', 'look', 'boring', 'look', 'least', 'twice', 'definitely', 'watch', 'part', '2', 'change', 'view', 'matrix', 'human', 'people', 'ones', 'started', 'war', 'ai', 'bad', 'thing']\n"
     ]
    }
   ],
   "source": [
    "# Remove stop words\n",
    "words = [w for w in words if w not in stopwords.words(\"english\")]\n",
    "print(words)"
   ]
  },
  {
   "cell_type": "markdown",
   "metadata": {},
   "source": [
    "### Sentence Parsing"
   ]
  },
  {
   "cell_type": "code",
   "execution_count": 35,
   "metadata": {},
   "outputs": [
    {
     "name": "stdout",
     "output_type": "stream",
     "text": [
      "(S\n",
      "  (NP I)\n",
      "  (VP\n",
      "    (VP (V shot) (NP (Det an) (N elephant)))\n",
      "    (PP (P in) (NP (Det my) (N pajamas)))))\n",
      "(S\n",
      "  (NP I)\n",
      "  (VP\n",
      "    (V shot)\n",
      "    (NP (Det an) (N elephant) (PP (P in) (NP (Det my) (N pajamas))))))\n"
     ]
    }
   ],
   "source": [
    "import nltk\n",
    "\n",
    "# Define a custom grammar\n",
    "my_grammar = nltk.CFG.fromstring(\"\"\"\n",
    "S -> NP VP\n",
    "PP -> P NP\n",
    "NP -> Det N | Det N PP | 'I'\n",
    "VP -> V NP | VP PP\n",
    "Det -> 'an' | 'my'\n",
    "N -> 'elephant' | 'pajamas'\n",
    "V -> 'shot'\n",
    "P -> 'in'\n",
    "\"\"\")\n",
    "parser = nltk.ChartParser(my_grammar)\n",
    "\n",
    "# Parse a sentence\n",
    "sentence = word_tokenize(\"I shot an elephant in my pajamas\")\n",
    "for tree in parser.parse(sentence):\n",
    "    print(tree)"
   ]
  },
  {
   "cell_type": "markdown",
   "metadata": {},
   "source": [
    "## Stemming & Lemmatization\n",
    "\n",
    "### Stemming"
   ]
  },
  {
   "cell_type": "code",
   "execution_count": 36,
   "metadata": {},
   "outputs": [
    {
     "name": "stdout",
     "output_type": "stream",
     "text": [
      "['first', 'time', 'see', 'second', 'renaiss', 'may', 'look', 'bore', 'look', 'least', 'twice', 'definit', 'watch', 'part', '2', 'chang', 'view', 'matrix', 'human', 'peopl', 'one', 'start', 'war', 'ai', 'bad', 'thing']\n"
     ]
    }
   ],
   "source": [
    "from nltk.stem.porter import PorterStemmer\n",
    "\n",
    "# Reduce words to their stems\n",
    "stemmed = [PorterStemmer().stem(w) for w in words]\n",
    "print(stemmed)"
   ]
  },
  {
   "cell_type": "markdown",
   "metadata": {},
   "source": [
    "### Lemmatization"
   ]
  },
  {
   "cell_type": "code",
   "execution_count": 37,
   "metadata": {},
   "outputs": [
    {
     "name": "stdout",
     "output_type": "stream",
     "text": [
      "['first', 'time', 'see', 'second', 'renaissance', 'may', 'look', 'boring', 'look', 'least', 'twice', 'definitely', 'watch', 'part', '2', 'change', 'view', 'matrix', 'human', 'people', 'one', 'started', 'war', 'ai', 'bad', 'thing']\n"
     ]
    }
   ],
   "source": [
    "from nltk.stem.wordnet import WordNetLemmatizer\n",
    "\n",
    "# Reduce words to their root form\n",
    "lemmed = [WordNetLemmatizer().lemmatize(w) for w in words]\n",
    "print(lemmed)"
   ]
  },
  {
   "cell_type": "code",
   "execution_count": 38,
   "metadata": {},
   "outputs": [
    {
     "name": "stdout",
     "output_type": "stream",
     "text": [
      "['first', 'time', 'see', 'second', 'renaissance', 'may', 'look', 'bore', 'look', 'least', 'twice', 'definitely', 'watch', 'part', '2', 'change', 'view', 'matrix', 'human', 'people', 'one', 'start', 'war', 'ai', 'bad', 'thing']\n"
     ]
    }
   ],
   "source": [
    "# Lemmatize verbs by specifying pos\n",
    "lemmed = [WordNetLemmatizer().lemmatize(w, pos='v') for w in lemmed]\n",
    "print(lemmed)"
   ]
  }
 ],
 "metadata": {
  "kernelspec": {
   "display_name": "Python 3 (ipykernel)",
   "language": "python",
   "name": "python3"
  },
  "language_info": {
   "codemirror_mode": {
    "name": "ipython",
    "version": 3
   },
   "file_extension": ".py",
   "mimetype": "text/x-python",
   "name": "python",
   "nbconvert_exporter": "python",
   "pygments_lexer": "ipython3",
   "version": "3.11.4"
  }
 },
 "nbformat": 4,
 "nbformat_minor": 2
}
