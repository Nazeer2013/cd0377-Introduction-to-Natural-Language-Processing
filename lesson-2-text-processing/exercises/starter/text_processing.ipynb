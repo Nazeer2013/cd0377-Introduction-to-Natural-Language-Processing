{
 "cells": [
  {
   "cell_type": "markdown",
   "metadata": {},
   "source": [
    "# Text Processing\n",
    "\n",
    "## Capturing Text Data\n",
    "\n",
    "### Plain Text"
   ]
  },
  {
   "cell_type": "code",
   "execution_count": 2,
   "metadata": {},
   "outputs": [
    {
     "name": "stdout",
     "output_type": "stream",
     "text": [
      "Hieroglyphic writing dates from c. 3000 BC, and is composed of hundreds of symbols. A hieroglyph can represent a word, a sound, or a silent determinative; and the same symbol can serve different purposes in different contexts. Hieroglyphs were a formal script, used on stone monuments and in tombs, that could be as detailed as individual works of art.\n",
      "\n"
     ]
    }
   ],
   "source": [
    "import os\n",
    "\n",
    "# Read in a plain text file\n",
    "with open(os.path.join(\"../../../data\", \"hieroglyph.txt\"), \"r\") as f:\n",
    "    text = f.read()\n",
    "    print(text)"
   ]
  },
  {
   "cell_type": "markdown",
   "metadata": {},
   "source": [
    "### Tabular Data"
   ]
  },
  {
   "cell_type": "code",
   "execution_count": 3,
   "metadata": {
    "scrolled": true
   },
   "outputs": [
    {
     "data": {
      "text/html": [
       "<div>\n",
       "<style scoped>\n",
       "    .dataframe tbody tr th:only-of-type {\n",
       "        vertical-align: middle;\n",
       "    }\n",
       "\n",
       "    .dataframe tbody tr th {\n",
       "        vertical-align: top;\n",
       "    }\n",
       "\n",
       "    .dataframe thead th {\n",
       "        text-align: right;\n",
       "    }\n",
       "</style>\n",
       "<table border=\"1\" class=\"dataframe\">\n",
       "  <thead>\n",
       "    <tr style=\"text-align: right;\">\n",
       "      <th></th>\n",
       "      <th>publisher</th>\n",
       "      <th>title</th>\n",
       "    </tr>\n",
       "  </thead>\n",
       "  <tbody>\n",
       "    <tr>\n",
       "      <th>0</th>\n",
       "      <td>Livemint</td>\n",
       "      <td>fed's charles plosser sees high bar for change...</td>\n",
       "    </tr>\n",
       "    <tr>\n",
       "      <th>1</th>\n",
       "      <td>IFA Magazine</td>\n",
       "      <td>us open: stocks fall after fed official hints ...</td>\n",
       "    </tr>\n",
       "    <tr>\n",
       "      <th>2</th>\n",
       "      <td>IFA Magazine</td>\n",
       "      <td>fed risks falling 'behind the curve', charles ...</td>\n",
       "    </tr>\n",
       "    <tr>\n",
       "      <th>3</th>\n",
       "      <td>Moneynews</td>\n",
       "      <td>fed's plosser: nasty weather has curbed job gr...</td>\n",
       "    </tr>\n",
       "    <tr>\n",
       "      <th>4</th>\n",
       "      <td>NASDAQ</td>\n",
       "      <td>plosser: fed may have to accelerate tapering pace</td>\n",
       "    </tr>\n",
       "  </tbody>\n",
       "</table>\n",
       "</div>"
      ],
      "text/plain": [
       "      publisher                                              title\n",
       "0      Livemint  fed's charles plosser sees high bar for change...\n",
       "1  IFA Magazine  us open: stocks fall after fed official hints ...\n",
       "2  IFA Magazine  fed risks falling 'behind the curve', charles ...\n",
       "3     Moneynews  fed's plosser: nasty weather has curbed job gr...\n",
       "4        NASDAQ  plosser: fed may have to accelerate tapering pace"
      ]
     },
     "execution_count": 3,
     "metadata": {},
     "output_type": "execute_result"
    }
   ],
   "source": [
    "import pandas as pd\n",
    "\n",
    "# Extract text column from a dataframe\n",
    "df = pd.read_csv(os.path.join(\"../../../data\", \"news.csv\"))\n",
    "df.head()[['publisher', 'title']]\n",
    "\n",
    "# Convert text column to lowercase\n",
    "df['title'] = df['title'].str.lower()\n",
    "df.head()[['publisher', 'title']]"
   ]
  },
  {
   "cell_type": "markdown",
   "metadata": {},
   "source": [
    "### Online Resource"
   ]
  },
  {
   "cell_type": "code",
   "execution_count": 13,
   "metadata": {},
   "outputs": [
    {
     "name": "stdout",
     "output_type": "stream",
     "text": [
      "{'id': 'jR9TguFNeDGHbHdDbTnyGweF', 'quote': \"I don't know any other way to lead but by example.\", 'length': 50, 'author': 'Don Shula', 'language': 'en', 'tags': ['leadership', 'management', 'example', 'football', 'sports'], 'sfw': 'sfw', 'permalink': 'https://theysaidso.com/quote/don-shula-i-dont-know-any-other-way-to-lead-but-by-example', 'title': 'Management Quote of the day', 'category': 'management', 'background': 'https://theysaidso.com/assets/images/qod/qod-management.jpg', 'date': '2023-10-25'}\n"
     ]
    }
   ],
   "source": [
    "# https://theysaidso.com/api#python\n",
    "\n",
    "import requests\n",
    "\n",
    "\n",
    "url = 'https://quotes.rest/qod?category=management'\n",
    "api_token = \"C0aVKWJ2HFhn8rU4vIA9cFQmmFcC6NpFv1dF98Pt\"\n",
    "headers = {'content-type': 'application/json',\n",
    "\t   'X-TheySaidSo-Api-Secret': format(api_token)}\n",
    "\n",
    "response = requests.get(url, headers=headers)\n",
    "#print(response)\n",
    "quotes=response.json()['contents']['quotes'][0]\n",
    "print(quotes)"
   ]
  },
  {
   "cell_type": "code",
   "execution_count": 14,
   "metadata": {},
   "outputs": [
    {
     "name": "stdout",
     "output_type": "stream",
     "text": [
      "I don't know any other way to lead but by example. \n",
      "-- Don Shula\n"
     ]
    }
   ],
   "source": [
    "# Extract relevant object and field\n",
    "\n",
    "print(quotes[\"quote\"], \"\\n--\", quotes[\"author\"])"
   ]
  },
  {
   "cell_type": "code",
   "execution_count": 15,
   "metadata": {
    "scrolled": true
   },
   "outputs": [
    {
     "name": "stdout",
     "output_type": "stream",
     "text": [
      "{\n",
      "    \"success\": {\n",
      "        \"total\": 1\n",
      "    },\n",
      "    \"contents\": {\n",
      "        \"quotes\": [\n",
      "            {\n",
      "                \"id\": \"Q3TIEXJ5M0DTgVJkdShQpAeF\",\n",
      "                \"quote\": \"The best way to predict the future is to create it.\",\n",
      "                \"length\": 51,\n",
      "                \"author\": \"Abraham Lincoln\",\n",
      "                \"language\": \"en\",\n",
      "                \"tags\": [\n",
      "                    \"inspire\",\n",
      "                    \"future\"\n",
      "                ],\n",
      "                \"sfw\": \"sfw\",\n",
      "                \"permalink\": \"https://theysaidso.com/quote/abraham-lincoln-the-best-way-to-predict-the-future-is-to-create-it\",\n",
      "                \"title\": \"Inspiring Quote of the day\",\n",
      "                \"category\": \"inspire\",\n",
      "                \"background\": \"https://theysaidso.com/assets/images/qod/qod-inspire.jpg\",\n",
      "                \"date\": \"2023-10-25\"\n",
      "            }\n",
      "        ]\n",
      "    },\n",
      "    \"copyright\": {\n",
      "        \"url\": \"https://quotes.rest\",\n",
      "        \"year\": \"2023\"\n",
      "    }\n",
      "}\n",
      "The best way to predict the future is to create it. \n",
      "-- Abraham Lincoln\n"
     ]
    }
   ],
   "source": [
    "import requests\n",
    "import json\n",
    "\n",
    "# Fetch data from a REST API\n",
    "# r = requests.get(\n",
    "#     \"http://quotes.rest/qod.json\")\n",
    "\n",
    "url = 'http://quotes.rest/qod.json'\n",
    "\n",
    "r = requests.get(url, headers=headers)\n",
    "res = r.json()\n",
    "print(json.dumps(res, indent=4))\n",
    "\n",
    "# Extract relevant object and field\n",
    "q = res[\"contents\"][\"quotes\"][0]\n",
    "print(q[\"quote\"], \"\\n--\", q[\"author\"])"
   ]
  },
  {
   "cell_type": "markdown",
   "metadata": {},
   "source": [
    "## Cleaning"
   ]
  },
  {
   "cell_type": "code",
   "execution_count": 3,
   "metadata": {
    "scrolled": true
   },
   "outputs": [
    {
     "name": "stdout",
     "output_type": "stream",
     "text": [
      "<html lang=\"en\" op=\"news\"><head><meta name=\"referrer\" content=\"origin\"><meta name=\"viewport\" content=\"width=device-width, initial-scale=1.0\"><link rel=\"stylesheet\" type=\"text/css\" href=\"news.css?lv4iqE1LZP0IXr4FPnmv\">\n",
      "        <link rel=\"shortcut icon\" href=\"favicon.ico\">\n",
      "          <link rel=\"alternate\" type=\"application/rss+xml\" title=\"RSS\" href=\"rss\">\n",
      "        <title>Hacker News</title></head><body><center><table id=\"hnmain\" border=\"0\" cellpadding=\"0\" cellspacing=\"0\" width=\"85%\" bgcolor=\"#f6f6ef\">\n",
      "        <tr><td bgcolor=\"#ff6600\"><table border=\"0\" cellpadding=\"0\" cellspacing=\"0\" width=\"100%\" style=\"padding:2px\"><tr><td style=\"width:18px;padding-right:4px\"><a href=\"https://news.ycombinator.com\"><img src=\"y18.svg\" width=\"18\" height=\"18\" style=\"border:1px white solid; display:block\"></a></td>\n",
      "                  <td style=\"line-height:12pt; height:10px;\"><span class=\"pagetop\"><b class=\"hnname\"><a href=\"news\">Hacker News</a></b>\n",
      "                            <a href=\"newest\">new</a> | <a href=\"front\">past</a> | <a href=\"newcomments\">comments</a> | <a href=\"ask\">ask</a> | <a href=\"show\">show</a> | <a href=\"jobs\">jobs</a> | <a href=\"submit\">submit</a>            </span></td><td style=\"text-align:right;padding-right:4px;\"><span class=\"pagetop\">\n",
      "                              <a href=\"login?goto=news\">login</a>\n",
      "                          </span></td>\n",
      "              </tr></table></td></tr>\n",
      "<tr id=\"pagespace\" title=\"\" style=\"height:10px\"></tr><tr><td><table border=\"0\" cellpadding=\"0\" cellspacing=\"0\">\n",
      "            <tr class='athing' id='38002752'>\n",
      "      <td align=\"right\" valign=\"top\" class=\"title\"><span class=\"rank\">1.</span></td>      <td valign=\"top\" class=\"votelinks\"><center><a id='up_38002752'href='vote?id=38002752&amp;how=up&amp;goto=news'><div class='votearrow' title='upvote'></div></a></center></td><td class=\"title\"><span class=\"titleline\"><a href=\"https://www.reuters.com/business/autos-transportation/california-suspends-gm-cruises-driverless-autonomous-vehicle-permits-2023-10-24/\" rel=\"noreferrer\">California suspends Cruise&#x27;s autonomous vehicle deployment</a><span class=\"sitebit comhead\"> (<a href=\"from?site=reuters.com\"><span class=\"sitestr\">reuters.com</span></a>)</span></span></td></tr><tr><td colspan=\"2\"></td><td class=\"subtext\"><span class=\"subline\">\n",
      "          <span class=\"score\" id=\"score_38002752\">767 points</span> by <a href=\"user?id=ra7\" class=\"hnuser\">ra7</a> <span class=\"age\" title=\"2023-10-24T17:55:33\"><a href=\"item?id=38002752\">10 hours ago</a></span> <span id=\"unv_38002752\"></span> | <a href=\"hide?id=38002752&amp;goto=news\">hide</a> | <a href=\"item?id=38002752\">934&nbsp;comments</a>        </span>\n",
      "              </td></tr>\n",
      "      <tr class=\"spacer\" style=\"height:5px\"></tr>\n",
      "                <tr class='athing' id='38007906'>\n",
      "      <td align=\"right\" valign=\"top\" class=\"title\"><span class=\"rank\">2.</span></td>      <td valign=\"top\" class=\"votelinks\"><center><a id='up_38007906'href='vote?id=38007906&amp;how=up&amp;goto=news'><div class='votearrow' title='upvote'></div></a></center></td><td class=\"title\"><span class=\"titleline\"><a href=\"https://en.wikipedia.org/wiki/Judas_goat\" rel=\"noreferrer\">Judas goat</a><span class=\"sitebit comhead\"> (<a href=\"from?site=wikipedia.org\"><span class=\"sitestr\">wikipedia.org</span></a>)</span></span></td></tr><tr><td colspan=\"2\"></td><td class=\"subtext\"><span class=\"subline\">\n",
      "          <span class=\"score\" id=\"score_38007906\">19 points</span> by <a href=\"user?id=serverlessmom\" class=\"hnuser\">serverlessmom</a> <span class=\"age\" title=\"2023-10-25T01:07:56\"><a href=\"item?id=38007906\">1 hour ago</a></span> <span id=\"unv_38007906\"></span> | <a href=\"hide?id=38007906&amp;goto=news\">hide</a> | <a href=\"item?id=38007906\">6&nbsp;comments</a>        </span>\n",
      "              </td></tr>\n",
      "      <tr class=\"spacer\" style=\"height:5px\"></tr>\n",
      "                <tr class='athing' id='37985489'>\n",
      "      <td align=\"right\" valign=\"top\" class=\"title\"><span class=\"rank\">3.</span></td>      <td valign=\"top\" class=\"votelinks\"><center><a id='up_37985489'href='vote?id=37985489&amp;how=up&amp;goto=news'><div class='votearrow' title='upvote'></div></a></center></td><td class=\"title\"><span class=\"titleline\"><a href=\"https://simonwillison.net/2023/Oct/23/embeddings/\" rel=\"noreferrer\">Embeddings: What they are and why they matter</a><span class=\"sitebit comhead\"> (<a href=\"from?site=simonwillison.net\"><span class=\"sitestr\">simonwillison.net</span></a>)</span></span></td></tr><tr><td colspan=\"2\"></td><td class=\"subtext\"><span class=\"subline\">\n",
      "          <span class=\"score\" id=\"score_37985489\">58 points</span> by <a href=\"user?id=simonw\" class=\"hnuser\">simonw</a> <span class=\"age\" title=\"2023-10-23T13:42:12\"><a href=\"item?id=37985489\">3 hours ago</a></span> <span id=\"unv_37985489\"></span> | <a href=\"hide?id=37985489&amp;goto=news\">hide</a> | <a href=\"item?id=37985489\">13&nbsp;comments</a>        </span>\n",
      "              </td></tr>\n",
      "      <tr class=\"spacer\" style=\"height:5px\"></tr>\n",
      "                <tr class='athing' id='38004699'>\n",
      "      <td align=\"right\" valign=\"top\" class=\"title\"><span class=\"rank\">4.</span></td>      <td valign=\"top\" class=\"votelinks\"><center><a id='up_38004699'href='vote?id=38004699&amp;how=up&amp;goto=news'><div class='votearrow' title='upvote'></div></a></center></td><td class=\"title\"><span class=\"titleline\"><a href=\"https://docs.google.com/document/d/1iL0fYmMmariFoSvLd9U5nPVH1uFKC7bvVasUcYq78So/edit\" rel=\"noreferrer\">The OSI Deprogrammer</a><span class=\"sitebit comhead\"> (<a href=\"from?site=docs.google.com\"><span class=\"sitestr\">docs.google.com</span></a>)</span></span></td></tr><tr><td colspan=\"2\"></td><td class=\"subtext\"><span class=\"subline\">\n",
      "          <span class=\"score\" id=\"score_38004699\">47 points</span> by <a href=\"user?id=mpweiher\" class=\"hnuser\">mpweiher</a> <span class=\"age\" title=\"2023-10-24T20:07:08\"><a href=\"item?id=38004699\">3 hours ago</a></span> <span id=\"unv_38004699\"></span> | <a href=\"hide?id=38004699&amp;goto=news\">hide</a> | <a href=\"item?id=38004699\">20&nbsp;comments</a>        </span>\n",
      "              </td></tr>\n",
      "      <tr class=\"spacer\" style=\"height:5px\"></tr>\n",
      "                <tr class='athing' id='38008395'>\n",
      "      <td align=\"right\" valign=\"top\" class=\"title\"><span class=\"rank\">5.</span></td>      <td valign=\"top\" class=\"votelinks\"><center><a id='up_38008395'href='vote?id=38008395&amp;how=up&amp;goto=news'><div class='votearrow' title='upvote'></div></a></center></td><td class=\"title\"><span class=\"titleline\"><a href=\"https://news.harvard.edu/gazette/story/2023/10/heated-yoga-may-reduce-depression-in-adults/\" rel=\"noreferrer\">Heated yoga may reduce depression in adults</a><span class=\"sitebit comhead\"> (<a href=\"from?site=news.harvard.edu\"><span class=\"sitestr\">news.harvard.edu</span></a>)</span></span></td></tr><tr><td colspan=\"2\"></td><td class=\"subtext\"><span class=\"subline\">\n",
      "          <span class=\"score\" id=\"score_38008395\">20 points</span> by <a href=\"user?id=nomilk\" class=\"hnuser\">nomilk</a> <span class=\"age\" title=\"2023-10-25T02:19:27\"><a href=\"item?id=38008395\">2 hours ago</a></span> <span id=\"unv_38008395\"></span> | <a href=\"hide?id=38008395&amp;goto=news\">hide</a> | <a href=\"item?id=38008395\">21&nbsp;comments</a>        </span>\n",
      "              </td></tr>\n",
      "      <tr class=\"spacer\" style=\"height:5px\"></tr>\n",
      "                <tr class='athing' id='38006814'>\n",
      "      <td align=\"right\" valign=\"top\" class=\"title\"><span class=\"rank\">6.</span></td>      <td valign=\"top\" class=\"votelinks\"><center><a id='up_38006814'href='vote?id=38006814&amp;how=up&amp;goto=news'><div class='votearrow' title='upvote'></div></a></center></td><td class=\"title\"><span class=\"titleline\"><a href=\"https://restaurants.rip/\" rel=\"noreferrer\">Show HN: Restaurants in Peace – leave a remembrance for a closed restaurant</a><span class=\"sitebit comhead\"> (<a href=\"from?site=restaurants.rip\"><span class=\"sitestr\">restaurants.rip</span></a>)</span></span></td></tr><tr><td colspan=\"2\"></td><td class=\"subtext\"><span class=\"subline\">\n",
      "          <span class=\"score\" id=\"score_38006814\">73 points</span> by <a href=\"user?id=gregsadetsky\" class=\"hnuser\">gregsadetsky</a> <span class=\"age\" title=\"2023-10-24T22:54:17\"><a href=\"item?id=38006814\">5 hours ago</a></span> <span id=\"unv_38006814\"></span> | <a href=\"hide?id=38006814&amp;goto=news\">hide</a> | <a href=\"item?id=38006814\">32&nbsp;comments</a>        </span>\n",
      "              </td></tr>\n",
      "      <tr class=\"spacer\" style=\"height:5px\"></tr>\n",
      "                <tr class='athing' id='38004721'>\n",
      "      <td align=\"right\" valign=\"top\" class=\"title\"><span class=\"rank\">7.</span></td>      <td valign=\"top\" class=\"votelinks\"><center><a id='up_38004721'href='vote?id=38004721&amp;how=up&amp;goto=news'><div class='votearrow' title='upvote'></div></a></center></td><td class=\"title\"><span class=\"titleline\"><a href=\"https://www.nbcbayarea.com/investigations/googles-waymo-safety-study-on-driverless-cars/3311188/\" rel=\"noreferrer\">Waymo says insurance data shows its driverless cars are safer than humans</a><span class=\"sitebit comhead\"> (<a href=\"from?site=nbcbayarea.com\"><span class=\"sitestr\">nbcbayarea.com</span></a>)</span></span></td></tr><tr><td colspan=\"2\"></td><td class=\"subtext\"><span class=\"subline\">\n",
      "          <span class=\"score\" id=\"score_38004721\">90 points</span> by <a href=\"user?id=kens\" class=\"hnuser\">kens</a> <span class=\"age\" title=\"2023-10-24T20:08:26\"><a href=\"item?id=38004721\">8 hours ago</a></span> <span id=\"unv_38004721\"></span> | <a href=\"hide?id=38004721&amp;goto=news\">hide</a> | <a href=\"item?id=38004721\">46&nbsp;comments</a>        </span>\n",
      "              </td></tr>\n",
      "      <tr class=\"spacer\" style=\"height:5px\"></tr>\n",
      "                <tr class='athing' id='37975413'>\n",
      "      <td align=\"right\" valign=\"top\" class=\"title\"><span class=\"rank\">8.</span></td>      <td valign=\"top\" class=\"votelinks\"><center><a id='up_37975413'href='vote?id=37975413&amp;how=up&amp;goto=news'><div class='votearrow' title='upvote'></div></a></center></td><td class=\"title\"><span class=\"titleline\"><a href=\"https://www.youtube.com/watch?v=lFlu60qs7_4\">One Line in the Oldest Math Text Hinted at Hidden Universes [video]</a><span class=\"sitebit comhead\"> (<a href=\"from?site=youtube.com\"><span class=\"sitestr\">youtube.com</span></a>)</span></span></td></tr><tr><td colspan=\"2\"></td><td class=\"subtext\"><span class=\"subline\">\n",
      "          <span class=\"score\" id=\"score_37975413\">14 points</span> by <a href=\"user?id=ksec\" class=\"hnuser\">ksec</a> <span class=\"age\" title=\"2023-10-22T13:56:36\"><a href=\"item?id=37975413\">2 hours ago</a></span> <span id=\"unv_37975413\"></span> | <a href=\"hide?id=37975413&amp;goto=news\">hide</a> | <a href=\"item?id=37975413\">2&nbsp;comments</a>        </span>\n",
      "              </td></tr>\n",
      "      <tr class=\"spacer\" style=\"height:5px\"></tr>\n",
      "                <tr class='athing' id='38000154'>\n",
      "      <td align=\"right\" valign=\"top\" class=\"title\"><span class=\"rank\">9.</span></td>      <td valign=\"top\" class=\"votelinks\"><center><a id='up_38000154'href='vote?id=38000154&amp;how=up&amp;goto=news'><div class='votearrow' title='upvote'></div></a></center></td><td class=\"title\"><span class=\"titleline\"><a href=\"https://words.filippo.io/dispatches/parameters/\" rel=\"noreferrer\">Why we don’t generate elliptic curves every day</a><span class=\"sitebit comhead\"> (<a href=\"from?site=filippo.io\"><span class=\"sitestr\">filippo.io</span></a>)</span></span></td></tr><tr><td colspan=\"2\"></td><td class=\"subtext\"><span class=\"subline\">\n",
      "          <span class=\"score\" id=\"score_38000154\">243 points</span> by <a href=\"user?id=mfrw\" class=\"hnuser\">mfrw</a> <span class=\"age\" title=\"2023-10-24T15:00:51\"><a href=\"item?id=38000154\">13 hours ago</a></span> <span id=\"unv_38000154\"></span> | <a href=\"hide?id=38000154&amp;goto=news\">hide</a> | <a href=\"item?id=38000154\">41&nbsp;comments</a>        </span>\n",
      "              </td></tr>\n",
      "      <tr class=\"spacer\" style=\"height:5px\"></tr>\n",
      "                <tr class='athing' id='37974865'>\n",
      "      <td align=\"right\" valign=\"top\" class=\"title\"><span class=\"rank\">10.</span></td>      <td valign=\"top\" class=\"votelinks\"><center><a id='up_37974865'href='vote?id=37974865&amp;how=up&amp;goto=news'><div class='votearrow' title='upvote'></div></a></center></td><td class=\"title\"><span class=\"titleline\"><a href=\"https://javednissar.ca/wait-equation\" rel=\"noreferrer\">The Wait Equation and AI Investment</a><span class=\"sitebit comhead\"> (<a href=\"from?site=javednissar.ca\"><span class=\"sitestr\">javednissar.ca</span></a>)</span></span></td></tr><tr><td colspan=\"2\"></td><td class=\"subtext\"><span class=\"subline\">\n",
      "          <span class=\"score\" id=\"score_37974865\">32 points</span> by <a href=\"user?id=waldohatesyou\" class=\"hnuser\">waldohatesyou</a> <span class=\"age\" title=\"2023-10-22T12:42:44\"><a href=\"item?id=37974865\">4 hours ago</a></span> <span id=\"unv_37974865\"></span> | <a href=\"hide?id=37974865&amp;goto=news\">hide</a> | <a href=\"item?id=37974865\">9&nbsp;comments</a>        </span>\n",
      "              </td></tr>\n",
      "      <tr class=\"spacer\" style=\"height:5px\"></tr>\n",
      "                <tr class='athing' id='37998923'>\n",
      "      <td align=\"right\" valign=\"top\" class=\"title\"><span class=\"rank\">11.</span></td>      <td valign=\"top\" class=\"votelinks\"><center><a id='up_37998923'href='vote?id=37998923&amp;how=up&amp;goto=news'><div class='votearrow' title='upvote'></div></a></center></td><td class=\"title\"><span class=\"titleline\"><a href=\"https://codeforces.com/blog/entry/85638\" rel=\"noreferrer\">Voronoi Diagram and Delaunay Triangulation in O(nlog(n)) (2020)</a><span class=\"sitebit comhead\"> (<a href=\"from?site=codeforces.com\"><span class=\"sitestr\">codeforces.com</span></a>)</span></span></td></tr><tr><td colspan=\"2\"></td><td class=\"subtext\"><span class=\"subline\">\n",
      "          <span class=\"score\" id=\"score_37998923\">21 points</span> by <a href=\"user?id=cpp_frog\" class=\"hnuser\">cpp_frog</a> <span class=\"age\" title=\"2023-10-24T13:29:54\"><a href=\"item?id=37998923\">3 hours ago</a></span> <span id=\"unv_37998923\"></span> | <a href=\"hide?id=37998923&amp;goto=news\">hide</a> | <a href=\"item?id=37998923\">1&nbsp;comment</a>        </span>\n",
      "              </td></tr>\n",
      "      <tr class=\"spacer\" style=\"height:5px\"></tr>\n",
      "                <tr class='athing' id='38006512'>\n",
      "      <td align=\"right\" valign=\"top\" class=\"title\"><span class=\"rank\">12.</span></td>      <td valign=\"top\" class=\"votelinks\"><center><a id='up_38006512'href='vote?id=38006512&amp;how=up&amp;goto=news'><div class='votearrow' title='upvote'></div></a></center></td><td class=\"title\"><span class=\"titleline\"><a href=\"https://www.newyorker.com/magazine/2023/10/30/the-mysteries-bill-watterson-book-review\" rel=\"noreferrer\">Life After “Calvin and Hobbes”</a><span class=\"sitebit comhead\"> (<a href=\"from?site=newyorker.com\"><span class=\"sitestr\">newyorker.com</span></a>)</span></span></td></tr><tr><td colspan=\"2\"></td><td class=\"subtext\"><span class=\"subline\">\n",
      "          <span class=\"score\" id=\"score_38006512\">129 points</span> by <a href=\"user?id=voisin\" class=\"hnuser\">voisin</a> <span class=\"age\" title=\"2023-10-24T22:24:20\"><a href=\"item?id=38006512\">6 hours ago</a></span> <span id=\"unv_38006512\"></span> | <a href=\"hide?id=38006512&amp;goto=news\">hide</a> | <a href=\"item?id=38006512\">85&nbsp;comments</a>        </span>\n",
      "              </td></tr>\n",
      "      <tr class=\"spacer\" style=\"height:5px\"></tr>\n",
      "                <tr class='athing' id='38000824'>\n",
      "      <td align=\"right\" valign=\"top\" class=\"title\"><span class=\"rank\">13.</span></td>      <td valign=\"top\" class=\"votelinks\"><center><a id='up_38000824'href='vote?id=38000824&amp;how=up&amp;goto=news'><div class='votearrow' title='upvote'></div></a></center></td><td class=\"title\"><span class=\"titleline\"><a href=\"https://www.figma.com/blog/server-side-sandboxing-containers-and-seccomp/#j1WRe\" rel=\"noreferrer\">Server-side sandboxing: Containers and seccomp</a><span class=\"sitebit comhead\"> (<a href=\"from?site=figma.com\"><span class=\"sitestr\">figma.com</span></a>)</span></span></td></tr><tr><td colspan=\"2\"></td><td class=\"subtext\"><span class=\"subline\">\n",
      "          <span class=\"score\" id=\"score_38000824\">188 points</span> by <a href=\"user?id=emilsjolander\" class=\"hnuser\">emilsjolander</a> <span class=\"age\" title=\"2023-10-24T15:47:24\"><a href=\"item?id=38000824\">13 hours ago</a></span> <span id=\"unv_38000824\"></span> | <a href=\"hide?id=38000824&amp;goto=news\">hide</a> | <a href=\"item?id=38000824\">30&nbsp;comments</a>        </span>\n",
      "              </td></tr>\n",
      "      <tr class=\"spacer\" style=\"height:5px\"></tr>\n",
      "                <tr class='athing' id='37998147'>\n",
      "      <td align=\"right\" valign=\"top\" class=\"title\"><span class=\"rank\">14.</span></td>      <td valign=\"top\" class=\"votelinks\"><center><a id='up_37998147'href='vote?id=37998147&amp;how=up&amp;goto=news'><div class='votearrow' title='upvote'></div></a></center></td><td class=\"title\"><span class=\"titleline\"><a href=\"https://resobscura.substack.com/p/there-should-be-more-cash-prizes\" rel=\"noreferrer\">There should be more cash prizes for solving historical mysteries</a><span class=\"sitebit comhead\"> (<a href=\"from?site=resobscura.substack.com\"><span class=\"sitestr\">resobscura.substack.com</span></a>)</span></span></td></tr><tr><td colspan=\"2\"></td><td class=\"subtext\"><span class=\"subline\">\n",
      "          <span class=\"score\" id=\"score_37998147\">59 points</span> by <a href=\"user?id=arbesman\" class=\"hnuser\">arbesman</a> <span class=\"age\" title=\"2023-10-24T12:25:34\"><a href=\"item?id=37998147\">8 hours ago</a></span> <span id=\"unv_37998147\"></span> | <a href=\"hide?id=37998147&amp;goto=news\">hide</a> | <a href=\"item?id=37998147\">16&nbsp;comments</a>        </span>\n",
      "              </td></tr>\n",
      "      <tr class=\"spacer\" style=\"height:5px\"></tr>\n",
      "                <tr class='athing' id='38004178'>\n",
      "      <td align=\"right\" valign=\"top\" class=\"title\"><span class=\"rank\">15.</span></td>      <td valign=\"top\" class=\"votelinks\"><center><a id='up_38004178'href='vote?id=38004178&amp;how=up&amp;goto=news'><div class='votearrow' title='upvote'></div></a></center></td><td class=\"title\"><span class=\"titleline\"><a href=\"https://gittuf.github.io/\" rel=\"noreferrer\">Gittuf – a security layer for Git</a><span class=\"sitebit comhead\"> (<a href=\"from?site=gittuf.github.io\"><span class=\"sitestr\">gittuf.github.io</span></a>)</span></span></td></tr><tr><td colspan=\"2\"></td><td class=\"subtext\"><span class=\"subline\">\n",
      "          <span class=\"score\" id=\"score_38004178\">76 points</span> by <a href=\"user?id=RyeCombinator\" class=\"hnuser\">RyeCombinator</a> <span class=\"age\" title=\"2023-10-24T19:31:59\"><a href=\"item?id=38004178\">9 hours ago</a></span> <span id=\"unv_38004178\"></span> | <a href=\"hide?id=38004178&amp;goto=news\">hide</a> | <a href=\"item?id=38004178\">8&nbsp;comments</a>        </span>\n",
      "              </td></tr>\n",
      "      <tr class=\"spacer\" style=\"height:5px\"></tr>\n",
      "                <tr class='athing' id='38008194'>\n",
      "      <td align=\"right\" valign=\"top\" class=\"title\"><span class=\"rank\">16.</span></td>      <td valign=\"top\" class=\"votelinks\"><center><a id='up_38008194'href='vote?id=38008194&amp;how=up&amp;goto=news'><div class='votearrow' title='upvote'></div></a></center></td><td class=\"title\"><span class=\"titleline\"><a href=\"https://www.caltech.edu/about/news/ligo-surpasses-the-quantum-limit\" rel=\"nofollow noreferrer\">LIGO Surpasses the Quantum Limit</a><span class=\"sitebit comhead\"> (<a href=\"from?site=caltech.edu\"><span class=\"sitestr\">caltech.edu</span></a>)</span></span></td></tr><tr><td colspan=\"2\"></td><td class=\"subtext\"><span class=\"subline\">\n",
      "          <span class=\"score\" id=\"score_38008194\">8 points</span> by <a href=\"user?id=clouddrover\" class=\"hnuser\">clouddrover</a> <span class=\"age\" title=\"2023-10-25T01:51:35\"><a href=\"item?id=38008194\">2 hours ago</a></span> <span id=\"unv_38008194\"></span> | <a href=\"hide?id=38008194&amp;goto=news\">hide</a> | <a href=\"item?id=38008194\">2&nbsp;comments</a>        </span>\n",
      "              </td></tr>\n",
      "      <tr class=\"spacer\" style=\"height:5px\"></tr>\n",
      "                <tr class='athing' id='37975558'>\n",
      "      <td align=\"right\" valign=\"top\" class=\"title\"><span class=\"rank\">17.</span></td>      <td valign=\"top\" class=\"votelinks\"><center><a id='up_37975558'href='vote?id=37975558&amp;how=up&amp;goto=news'><div class='votearrow' title='upvote'></div></a></center></td><td class=\"title\"><span class=\"titleline\"><a href=\"https://web.stanford.edu/~ouster/cgi-bin/book.php\" rel=\"nofollow noreferrer\">A Philosophy of Software Design</a><span class=\"sitebit comhead\"> (<a href=\"from?site=stanford.edu\"><span class=\"sitestr\">stanford.edu</span></a>)</span></span></td></tr><tr><td colspan=\"2\"></td><td class=\"subtext\"><span class=\"subline\">\n",
      "          <span class=\"score\" id=\"score_37975558\">6 points</span> by <a href=\"user?id=belter\" class=\"hnuser\">belter</a> <span class=\"age\" title=\"2023-10-22T14:13:06\"><a href=\"item?id=37975558\">1 hour ago</a></span> <span id=\"unv_37975558\"></span> | <a href=\"hide?id=37975558&amp;goto=news\">hide</a> | <a href=\"item?id=37975558\">discuss</a>        </span>\n",
      "              </td></tr>\n",
      "      <tr class=\"spacer\" style=\"height:5px\"></tr>\n",
      "                <tr class='athing' id='37975306'>\n",
      "      <td align=\"right\" valign=\"top\" class=\"title\"><span class=\"rank\">18.</span></td>      <td valign=\"top\" class=\"votelinks\"><center><a id='up_37975306'href='vote?id=37975306&amp;how=up&amp;goto=news'><div class='votearrow' title='upvote'></div></a></center></td><td class=\"title\"><span class=\"titleline\"><a href=\"https://icecube.wisc.edu/science/icecube/\" rel=\"noreferrer\">IceCube – South Pole Neutrino Observatory</a><span class=\"sitebit comhead\"> (<a href=\"from?site=wisc.edu\"><span class=\"sitestr\">wisc.edu</span></a>)</span></span></td></tr><tr><td colspan=\"2\"></td><td class=\"subtext\"><span class=\"subline\">\n",
      "          <span class=\"score\" id=\"score_37975306\">44 points</span> by <a href=\"user?id=belter\" class=\"hnuser\">belter</a> <span class=\"age\" title=\"2023-10-22T13:45:51\"><a href=\"item?id=37975306\">7 hours ago</a></span> <span id=\"unv_37975306\"></span> | <a href=\"hide?id=37975306&amp;goto=news\">hide</a> | <a href=\"item?id=37975306\">11&nbsp;comments</a>        </span>\n",
      "              </td></tr>\n",
      "      <tr class=\"spacer\" style=\"height:5px\"></tr>\n",
      "                <tr class='athing' id='37999035'>\n",
      "      <td align=\"right\" valign=\"top\" class=\"title\"><span class=\"rank\">19.</span></td>      <td valign=\"top\" class=\"votelinks\"><center><a id='up_37999035'href='vote?id=37999035&amp;how=up&amp;goto=news'><div class='votearrow' title='upvote'></div></a></center></td><td class=\"title\"><span class=\"titleline\"><a href=\"https://animatedai.github.io/\" rel=\"noreferrer\">Animated AI</a><span class=\"sitebit comhead\"> (<a href=\"from?site=animatedai.github.io\"><span class=\"sitestr\">animatedai.github.io</span></a>)</span></span></td></tr><tr><td colspan=\"2\"></td><td class=\"subtext\"><span class=\"subline\">\n",
      "          <span class=\"score\" id=\"score_37999035\">578 points</span> by <a href=\"user?id=qwertyforce\" class=\"hnuser\">qwertyforce</a> <span class=\"age\" title=\"2023-10-24T13:39:54\"><a href=\"item?id=37999035\">15 hours ago</a></span> <span id=\"unv_37999035\"></span> | <a href=\"hide?id=37999035&amp;goto=news\">hide</a> | <a href=\"item?id=37999035\">51&nbsp;comments</a>        </span>\n",
      "              </td></tr>\n",
      "      <tr class=\"spacer\" style=\"height:5px\"></tr>\n",
      "                <tr class='athing' id='37975285'>\n",
      "      <td align=\"right\" valign=\"top\" class=\"title\"><span class=\"rank\">20.</span></td>      <td valign=\"top\" class=\"votelinks\"><center><a id='up_37975285'href='vote?id=37975285&amp;how=up&amp;goto=news'><div class='votearrow' title='upvote'></div></a></center></td><td class=\"title\"><span class=\"titleline\"><a href=\"https://www.eejournal.com/article/before-computers-were-logic-diagrams-and-machines/\" rel=\"noreferrer\">Before computers were logic diagrams and machines</a><span class=\"sitebit comhead\"> (<a href=\"from?site=eejournal.com\"><span class=\"sitestr\">eejournal.com</span></a>)</span></span></td></tr><tr><td colspan=\"2\"></td><td class=\"subtext\"><span class=\"subline\">\n",
      "          <span class=\"score\" id=\"score_37975285\">27 points</span> by <a href=\"user?id=giuliomagnifico\" class=\"hnuser\">giuliomagnifico</a> <span class=\"age\" title=\"2023-10-22T13:43:58\"><a href=\"item?id=37975285\">6 hours ago</a></span> <span id=\"unv_37975285\"></span> | <a href=\"hide?id=37975285&amp;goto=news\">hide</a> | <a href=\"item?id=37975285\">4&nbsp;comments</a>        </span>\n",
      "              </td></tr>\n",
      "      <tr class=\"spacer\" style=\"height:5px\"></tr>\n",
      "                <tr class='athing' id='37975526'>\n",
      "      <td align=\"right\" valign=\"top\" class=\"title\"><span class=\"rank\">21.</span></td>      <td valign=\"top\" class=\"votelinks\"><center><a id='up_37975526'href='vote?id=37975526&amp;how=up&amp;goto=news'><div class='votearrow' title='upvote'></div></a></center></td><td class=\"title\"><span class=\"titleline\"><a href=\"https://www.around.com/bugs/\" rel=\"nofollow noreferrer\">Chasing bugs in the electronic village (1992)</a><span class=\"sitebit comhead\"> (<a href=\"from?site=around.com\"><span class=\"sitestr\">around.com</span></a>)</span></span></td></tr><tr><td colspan=\"2\"></td><td class=\"subtext\"><span class=\"subline\">\n",
      "          <span class=\"score\" id=\"score_37975526\">7 points</span> by <a href=\"user?id=DerekBickerton\" class=\"hnuser\">DerekBickerton</a> <span class=\"age\" title=\"2023-10-22T14:09:47\"><a href=\"item?id=37975526\">2 hours ago</a></span> <span id=\"unv_37975526\"></span> | <a href=\"hide?id=37975526&amp;goto=news\">hide</a> | <a href=\"item?id=37975526\">discuss</a>        </span>\n",
      "              </td></tr>\n",
      "      <tr class=\"spacer\" style=\"height:5px\"></tr>\n",
      "                <tr class='athing' id='38007028'>\n",
      "      <td align=\"right\" valign=\"top\" class=\"title\"><span class=\"rank\">22.</span></td>      <td valign=\"top\" class=\"votelinks\"><center><a id='up_38007028'href='vote?id=38007028&amp;how=up&amp;goto=news'><div class='votearrow' title='upvote'></div></a></center></td><td class=\"title\"><span class=\"titleline\"><a href=\"https://portal.alien.top\" rel=\"noreferrer\">Show HN: Fediverser Portal – Bring your subreddits to Lemmy</a><span class=\"sitebit comhead\"> (<a href=\"from?site=alien.top\"><span class=\"sitestr\">alien.top</span></a>)</span></span></td></tr><tr><td colspan=\"2\"></td><td class=\"subtext\"><span class=\"subline\">\n",
      "          <span class=\"score\" id=\"score_38007028\">75 points</span> by <a href=\"user?id=rglullis\" class=\"hnuser\">rglullis</a> <span class=\"age\" title=\"2023-10-24T23:18:49\"><a href=\"item?id=38007028\">5 hours ago</a></span> <span id=\"unv_38007028\"></span> | <a href=\"hide?id=38007028&amp;goto=news\">hide</a> | <a href=\"item?id=38007028\">15&nbsp;comments</a>        </span>\n",
      "              </td></tr>\n",
      "      <tr class=\"spacer\" style=\"height:5px\"></tr>\n",
      "                <tr class='athing' id='38008461'>\n",
      "      <td align=\"right\" valign=\"top\" class=\"title\"><span class=\"rank\">23.</span></td>      <td valign=\"top\" class=\"votelinks\"><center><a id='up_38008461'href='vote?id=38008461&amp;how=up&amp;goto=news'><div class='votearrow' title='upvote'></div></a></center></td><td class=\"title\"><span class=\"titleline\"><a href=\"https://www.mamedev.org/?p=530\" rel=\"nofollow noreferrer\">MAME 0.260</a><span class=\"sitebit comhead\"> (<a href=\"from?site=mamedev.org\"><span class=\"sitestr\">mamedev.org</span></a>)</span></span></td></tr><tr><td colspan=\"2\"></td><td class=\"subtext\"><span class=\"subline\">\n",
      "          <span class=\"score\" id=\"score_38008461\">5 points</span> by <a href=\"user?id=chungy\" class=\"hnuser\">chungy</a> <span class=\"age\" title=\"2023-10-25T02:31:12\"><a href=\"item?id=38008461\">2 hours ago</a></span> <span id=\"unv_38008461\"></span> | <a href=\"hide?id=38008461&amp;goto=news\">hide</a> | <a href=\"item?id=38008461\">discuss</a>        </span>\n",
      "              </td></tr>\n",
      "      <tr class=\"spacer\" style=\"height:5px\"></tr>\n",
      "                <tr class='athing' id='37999164'>\n",
      "      <td align=\"right\" valign=\"top\" class=\"title\"><span class=\"rank\">24.</span></td>      <td valign=\"top\" class=\"votelinks\"><center><a id='up_37999164'href='vote?id=37999164&amp;how=up&amp;goto=news'><div class='votearrow' title='upvote'></div></a></center></td><td class=\"title\"><span class=\"titleline\"><a href=\"https://www.stackfix.com/blog/the-ideation-flywheel\" rel=\"noreferrer\">The Ideation Flywheel: A mental model for deciding which startup ideas to pursue</a><span class=\"sitebit comhead\"> (<a href=\"from?site=stackfix.com\"><span class=\"sitestr\">stackfix.com</span></a>)</span></span></td></tr><tr><td colspan=\"2\"></td><td class=\"subtext\"><span class=\"subline\">\n",
      "          <span class=\"score\" id=\"score_37999164\">159 points</span> by <a href=\"user?id=caminmccluskey\" class=\"hnuser\">caminmccluskey</a> <span class=\"age\" title=\"2023-10-24T13:50:11\"><a href=\"item?id=37999164\">14 hours ago</a></span> <span id=\"unv_37999164\"></span> | <a href=\"hide?id=37999164&amp;goto=news\">hide</a> | <a href=\"item?id=37999164\">74&nbsp;comments</a>        </span>\n",
      "              </td></tr>\n",
      "      <tr class=\"spacer\" style=\"height:5px\"></tr>\n",
      "                <tr class='athing' id='38001978'>\n",
      "      <td align=\"right\" valign=\"top\" class=\"title\"><span class=\"rank\">25.</span></td>      <td><img src=\"s.gif\" height=\"1\" width=\"14\"></td>       <td class=\"title\"><span class=\"titleline\"><a href=\"https://www.ycombinator.com/companies/livedocs/jobs/IqaU8e4-marketing-coordinator\">Livedocs (YC W22) Is Hiring</a><span class=\"sitebit comhead\"> (<a href=\"from?site=ycombinator.com\"><span class=\"sitestr\">ycombinator.com</span></a>)</span></span></td></tr><tr><td colspan=\"2\"></td><td class=\"subtext\">\n",
      "        <span class=\"age\" title=\"2023-10-24T17:01:00\"><a href=\"item?id=38001978\">11 hours ago</a></span> | <a href=\"hide?id=38001978&amp;goto=news\">hide</a>      </td></tr>\n",
      "      <tr class=\"spacer\" style=\"height:5px\"></tr>\n",
      "                <tr class='athing' id='38000551'>\n",
      "      <td align=\"right\" valign=\"top\" class=\"title\"><span class=\"rank\">26.</span></td>      <td valign=\"top\" class=\"votelinks\"><center><a id='up_38000551'href='vote?id=38000551&amp;how=up&amp;goto=news'><div class='votearrow' title='upvote'></div></a></center></td><td class=\"title\"><span class=\"titleline\"><a href=\"https://brilliant.org/challenges/halfsies/\" rel=\"noreferrer\">Halfsies</a><span class=\"sitebit comhead\"> (<a href=\"from?site=brilliant.org\"><span class=\"sitestr\">brilliant.org</span></a>)</span></span></td></tr><tr><td colspan=\"2\"></td><td class=\"subtext\"><span class=\"subline\">\n",
      "          <span class=\"score\" id=\"score_38000551\">421 points</span> by <a href=\"user?id=hysan\" class=\"hnuser\">hysan</a> <span class=\"age\" title=\"2023-10-24T15:30:45\"><a href=\"item?id=38000551\">13 hours ago</a></span> <span id=\"unv_38000551\"></span> | <a href=\"hide?id=38000551&amp;goto=news\">hide</a> | <a href=\"item?id=38000551\">129&nbsp;comments</a>        </span>\n",
      "              </td></tr>\n",
      "      <tr class=\"spacer\" style=\"height:5px\"></tr>\n",
      "                <tr class='athing' id='37974897'>\n",
      "      <td align=\"right\" valign=\"top\" class=\"title\"><span class=\"rank\">27.</span></td>      <td valign=\"top\" class=\"votelinks\"><center><a id='up_37974897'href='vote?id=37974897&amp;how=up&amp;goto=news'><div class='votearrow' title='upvote'></div></a></center></td><td class=\"title\"><span class=\"titleline\"><a href=\"https://www.youtube.com/watch?v=ZUY2AtBD6Sk\">Development Secrets of the Original Kirby [video]</a><span class=\"sitebit comhead\"> (<a href=\"from?site=youtube.com\"><span class=\"sitestr\">youtube.com</span></a>)</span></span></td></tr><tr><td colspan=\"2\"></td><td class=\"subtext\"><span class=\"subline\">\n",
      "          <span class=\"score\" id=\"score_37974897\">53 points</span> by <a href=\"user?id=fomine3\" class=\"hnuser\">fomine3</a> <span class=\"age\" title=\"2023-10-22T12:47:08\"><a href=\"item?id=37974897\">9 hours ago</a></span> <span id=\"unv_37974897\"></span> | <a href=\"hide?id=37974897&amp;goto=news\">hide</a> | <a href=\"item?id=37974897\">11&nbsp;comments</a>        </span>\n",
      "              </td></tr>\n",
      "      <tr class=\"spacer\" style=\"height:5px\"></tr>\n",
      "                <tr class='athing' id='38002305'>\n",
      "      <td align=\"right\" valign=\"top\" class=\"title\"><span class=\"rank\">28.</span></td>      <td valign=\"top\" class=\"votelinks\"><center><a id='up_38002305'href='vote?id=38002305&amp;how=up&amp;goto=news'><div class='votearrow' title='upvote'></div></a></center></td><td class=\"title\"><span class=\"titleline\"><a href=\"https://www.ligo.caltech.edu/news/ligo20231023\" rel=\"noreferrer\">LIGO Surpasses the Quantum Limit</a><span class=\"sitebit comhead\"> (<a href=\"from?site=caltech.edu\"><span class=\"sitestr\">caltech.edu</span></a>)</span></span></td></tr><tr><td colspan=\"2\"></td><td class=\"subtext\"><span class=\"subline\">\n",
      "          <span class=\"score\" id=\"score_38002305\">78 points</span> by <a href=\"user?id=gmays\" class=\"hnuser\">gmays</a> <span class=\"age\" title=\"2023-10-24T17:25:01\"><a href=\"item?id=38002305\">11 hours ago</a></span> <span id=\"unv_38002305\"></span> | <a href=\"hide?id=38002305&amp;goto=news\">hide</a> | <a href=\"item?id=38002305\">10&nbsp;comments</a>        </span>\n",
      "              </td></tr>\n",
      "      <tr class=\"spacer\" style=\"height:5px\"></tr>\n",
      "                <tr class='athing' id='38001784'>\n",
      "      <td align=\"right\" valign=\"top\" class=\"title\"><span class=\"rank\">29.</span></td>      <td valign=\"top\" class=\"votelinks\"><center><a id='up_38001784'href='vote?id=38001784&amp;how=up&amp;goto=news'><div class='votearrow' title='upvote'></div></a></center></td><td class=\"title\"><span class=\"titleline\"><a href=\"https://mchap.io/that-time-the-city-of-seattle-accidentally-gave-me-32m-emails-for-40-dollars4997.html\" rel=\"noreferrer\">The City of Seattle accidentally gave me 32M emails for $40 (2018)</a><span class=\"sitebit comhead\"> (<a href=\"from?site=mchap.io\"><span class=\"sitestr\">mchap.io</span></a>)</span></span></td></tr><tr><td colspan=\"2\"></td><td class=\"subtext\"><span class=\"subline\">\n",
      "          <span class=\"score\" id=\"score_38001784\">273 points</span> by <a href=\"user?id=chaps\" class=\"hnuser\">chaps</a> <span class=\"age\" title=\"2023-10-24T16:47:57\"><a href=\"item?id=38001784\">12 hours ago</a></span> <span id=\"unv_38001784\"></span> | <a href=\"hide?id=38001784&amp;goto=news\">hide</a> | <a href=\"item?id=38001784\">199&nbsp;comments</a>        </span>\n",
      "              </td></tr>\n",
      "      <tr class=\"spacer\" style=\"height:5px\"></tr>\n",
      "                <tr class='athing' id='37999380'>\n",
      "      <td align=\"right\" valign=\"top\" class=\"title\"><span class=\"rank\">30.</span></td>      <td valign=\"top\" class=\"votelinks\"><center><a id='up_37999380'href='vote?id=37999380&amp;how=up&amp;goto=news'><div class='votearrow' title='upvote'></div></a></center></td><td class=\"title\"><span class=\"titleline\"><a href=\"https://www.moderntreasury.com/journal/reconciliation-is-a-knapsack-problem\">Reconciliation is a knapsack problem</a><span class=\"sitebit comhead\"> (<a href=\"from?site=moderntreasury.com\"><span class=\"sitestr\">moderntreasury.com</span></a>)</span></span></td></tr><tr><td colspan=\"2\"></td><td class=\"subtext\"><span class=\"subline\">\n",
      "          <span class=\"score\" id=\"score_37999380\">136 points</span> by <a href=\"user?id=saarons\" class=\"hnuser\">saarons</a> <span class=\"age\" title=\"2023-10-24T14:09:10\"><a href=\"item?id=37999380\">14 hours ago</a></span> <span id=\"unv_37999380\"></span> | <a href=\"hide?id=37999380&amp;goto=news\">hide</a> | <a href=\"item?id=37999380\">49&nbsp;comments</a>        </span>\n",
      "              </td></tr>\n",
      "      <tr class=\"spacer\" style=\"height:5px\"></tr>\n",
      "            <tr class=\"morespace\" style=\"height:10px\"></tr><tr><td colspan=\"2\"></td>\n",
      "      <td class='title'><a href='?p=2' class='morelink' rel='next'>More</a></td>    </tr>\n",
      "  </table>\n",
      "</td></tr>\n",
      "<tr><td><img src=\"s.gif\" height=\"10\" width=\"0\"><table width=\"100%\" cellspacing=\"0\" cellpadding=\"1\"><tr><td bgcolor=\"#ff6600\"></td></tr></table><br>\n",
      "<center><span class=\"yclinks\"><a href=\"newsguidelines.html\">Guidelines</a> | <a href=\"newsfaq.html\">FAQ</a> | <a href=\"lists\">Lists</a> | <a href=\"https://github.com/HackerNews/API\">API</a> | <a href=\"security.html\">Security</a> | <a href=\"https://www.ycombinator.com/legal/\">Legal</a> | <a href=\"https://www.ycombinator.com/apply/\">Apply to YC</a> | <a href=\"mailto:hn@ycombinator.com\">Contact</a></span><br><br>\n",
      "<form method=\"get\" action=\"//hn.algolia.com/\">Search: <input type=\"text\" name=\"q\" size=\"17\" autocorrect=\"off\" spellcheck=\"false\" autocapitalize=\"off\" autocomplete=\"false\"></form></center></td></tr>      </table></center></body>\n",
      "      <script type='text/javascript' src='hn.js?lv4iqE1LZP0IXr4FPnmv'></script>\n",
      "  </html>\n",
      "\n"
     ]
    }
   ],
   "source": [
    "import requests\n",
    "\n",
    "# Fetch a web page\n",
    "r = requests.get(\"https://news.ycombinator.com\")\n",
    "print(r.text)"
   ]
  },
  {
   "cell_type": "code",
   "execution_count": 4,
   "metadata": {},
   "outputs": [
    {
     "name": "stdout",
     "output_type": "stream",
     "text": [
      "\n",
      "        \n",
      "          \n",
      "        Hacker News\n",
      "        \n",
      "                  Hacker News\n",
      "                            new | past | comments | ask | show | jobs | submit            \n",
      "                              login\n",
      "                          \n",
      "              \n",
      "\n",
      "            \n",
      "      1.      California suspends Cruise&#x27;s autonomous vehicle deployment (reuters.com)\n",
      "          767 points by ra7 10 hours ago  | hide | 934&nbsp;comments        \n",
      "              \n",
      "      \n",
      "                \n",
      "      2.      Judas goat (wikipedia.org)\n",
      "          19 points by serverlessmom 1 hour ago  | hide | 6&nbsp;comments        \n",
      "              \n",
      "      \n",
      "                \n",
      "      3.      Embeddings: What they are and why they matter (simonwillison.net)\n",
      "          58 points by simonw 3 hours ago  | hide | 13&nbsp;comments        \n",
      "              \n",
      "      \n",
      "                \n",
      "      4.      The OSI Deprogrammer (docs.google.com)\n",
      "          47 points by mpweiher 3 hours ago  | hide | 20&nbsp;comments        \n",
      "              \n",
      "      \n",
      "                \n",
      "      5.      Heated yoga may reduce depression in adults (news.harvard.edu)\n",
      "          20 points by nomilk 2 hours ago  | hide | 21&nbsp;comments        \n",
      "              \n",
      "      \n",
      "                \n",
      "      6.      Show HN: Restaurants in Peace – leave a remembrance for a closed restaurant (restaurants.rip)\n",
      "          73 points by gregsadetsky 5 hours ago  | hide | 32&nbsp;comments        \n",
      "              \n",
      "      \n",
      "                \n",
      "      7.      Waymo says insurance data shows its driverless cars are safer than humans (nbcbayarea.com)\n",
      "          90 points by kens 8 hours ago  | hide | 46&nbsp;comments        \n",
      "              \n",
      "      \n",
      "                \n",
      "      8.      One Line in the Oldest Math Text Hinted at Hidden Universes [video] (youtube.com)\n",
      "          14 points by ksec 2 hours ago  | hide | 2&nbsp;comments        \n",
      "              \n",
      "      \n",
      "                \n",
      "      9.      Why we don’t generate elliptic curves every day (filippo.io)\n",
      "          243 points by mfrw 13 hours ago  | hide | 41&nbsp;comments        \n",
      "              \n",
      "      \n",
      "                \n",
      "      10.      The Wait Equation and AI Investment (javednissar.ca)\n",
      "          32 points by waldohatesyou 4 hours ago  | hide | 9&nbsp;comments        \n",
      "              \n",
      "      \n",
      "                \n",
      "      11.      Voronoi Diagram and Delaunay Triangulation in O(nlog(n)) (2020) (codeforces.com)\n",
      "          21 points by cpp_frog 3 hours ago  | hide | 1&nbsp;comment        \n",
      "              \n",
      "      \n",
      "                \n",
      "      12.      Life After “Calvin and Hobbes” (newyorker.com)\n",
      "          129 points by voisin 6 hours ago  | hide | 85&nbsp;comments        \n",
      "              \n",
      "      \n",
      "                \n",
      "      13.      Server-side sandboxing: Containers and seccomp (figma.com)\n",
      "          188 points by emilsjolander 13 hours ago  | hide | 30&nbsp;comments        \n",
      "              \n",
      "      \n",
      "                \n",
      "      14.      There should be more cash prizes for solving historical mysteries (resobscura.substack.com)\n",
      "          59 points by arbesman 8 hours ago  | hide | 16&nbsp;comments        \n",
      "              \n",
      "      \n",
      "                \n",
      "      15.      Gittuf – a security layer for Git (gittuf.github.io)\n",
      "          76 points by RyeCombinator 9 hours ago  | hide | 8&nbsp;comments        \n",
      "              \n",
      "      \n",
      "                \n",
      "      16.      LIGO Surpasses the Quantum Limit (caltech.edu)\n",
      "          8 points by clouddrover 2 hours ago  | hide | 2&nbsp;comments        \n",
      "              \n",
      "      \n",
      "                \n",
      "      17.      A Philosophy of Software Design (stanford.edu)\n",
      "          6 points by belter 1 hour ago  | hide | discuss        \n",
      "              \n",
      "      \n",
      "                \n",
      "      18.      IceCube – South Pole Neutrino Observatory (wisc.edu)\n",
      "          44 points by belter 7 hours ago  | hide | 11&nbsp;comments        \n",
      "              \n",
      "      \n",
      "                \n",
      "      19.      Animated AI (animatedai.github.io)\n",
      "          578 points by qwertyforce 15 hours ago  | hide | 51&nbsp;comments        \n",
      "              \n",
      "      \n",
      "                \n",
      "      20.      Before computers were logic diagrams and machines (eejournal.com)\n",
      "          27 points by giuliomagnifico 6 hours ago  | hide | 4&nbsp;comments        \n",
      "              \n",
      "      \n",
      "                \n",
      "      21.      Chasing bugs in the electronic village (1992) (around.com)\n",
      "          7 points by DerekBickerton 2 hours ago  | hide | discuss        \n",
      "              \n",
      "      \n",
      "                \n",
      "      22.      Show HN: Fediverser Portal – Bring your subreddits to Lemmy (alien.top)\n",
      "          75 points by rglullis 5 hours ago  | hide | 15&nbsp;comments        \n",
      "              \n",
      "      \n",
      "                \n",
      "      23.      MAME 0.260 (mamedev.org)\n",
      "          5 points by chungy 2 hours ago  | hide | discuss        \n",
      "              \n",
      "      \n",
      "                \n",
      "      24.      The Ideation Flywheel: A mental model for deciding which startup ideas to pursue (stackfix.com)\n",
      "          159 points by caminmccluskey 14 hours ago  | hide | 74&nbsp;comments        \n",
      "              \n",
      "      \n",
      "                \n",
      "      25.             Livedocs (YC W22) Is Hiring (ycombinator.com)\n",
      "        11 hours ago | hide      \n",
      "      \n",
      "                \n",
      "      26.      Halfsies (brilliant.org)\n",
      "          421 points by hysan 13 hours ago  | hide | 129&nbsp;comments        \n",
      "              \n",
      "      \n",
      "                \n",
      "      27.      Development Secrets of the Original Kirby [video] (youtube.com)\n",
      "          53 points by fomine3 9 hours ago  | hide | 11&nbsp;comments        \n",
      "              \n",
      "      \n",
      "                \n",
      "      28.      LIGO Surpasses the Quantum Limit (caltech.edu)\n",
      "          78 points by gmays 11 hours ago  | hide | 10&nbsp;comments        \n",
      "              \n",
      "      \n",
      "                \n",
      "      29.      The City of Seattle accidentally gave me 32M emails for $40 (2018) (mchap.io)\n",
      "          273 points by chaps 12 hours ago  | hide | 199&nbsp;comments        \n",
      "              \n",
      "      \n",
      "                \n",
      "      30.      Reconciliation is a knapsack problem (moderntreasury.com)\n",
      "          136 points by saarons 14 hours ago  | hide | 49&nbsp;comments        \n",
      "              \n",
      "      \n",
      "            \n",
      "      More    \n",
      "  \n",
      "\n",
      "\n",
      "Guidelines | FAQ | Lists | API | Security | Legal | Apply to YC | Contact\n",
      "Search:       \n",
      "      \n",
      "  \n",
      "\n"
     ]
    }
   ],
   "source": [
    "import re\n",
    "\n",
    "# Remove HTML tags using RegEx\n",
    "pattern = re.compile(r'<.*?>')  # tags look like <...>\n",
    "print(pattern.sub('', r.text))  # replace them with blank"
   ]
  },
  {
   "cell_type": "code",
   "execution_count": 5,
   "metadata": {},
   "outputs": [
    {
     "name": "stdout",
     "output_type": "stream",
     "text": [
      "\u001b[33mWARNING: Skipping /Users/nahmed4/anaconda3/envs/py311conenv/lib/python3.11/site-packages/urllib3-1.26.16.dist-info due to invalid metadata entry 'name'\u001b[0m\u001b[33m\n",
      "\u001b[0m\u001b[33mWARNING: Skipping /Users/nahmed4/anaconda3/envs/py311conenv/lib/python3.11/site-packages/urllib3-1.26.16.dist-info due to invalid metadata entry 'name'\u001b[0m\u001b[33m\n",
      "\u001b[0mRequirement already satisfied: html5lib in /Users/nahmed4/anaconda3/envs/py311conenv/lib/python3.11/site-packages (1.1)\n",
      "Requirement already satisfied: six>=1.9 in /Users/nahmed4/anaconda3/envs/py311conenv/lib/python3.11/site-packages (from html5lib) (1.16.0)\n",
      "Requirement already satisfied: webencodings in /Users/nahmed4/anaconda3/envs/py311conenv/lib/python3.11/site-packages (from html5lib) (0.5.1)\n",
      "\u001b[33mWARNING: Skipping /Users/nahmed4/anaconda3/envs/py311conenv/lib/python3.11/site-packages/urllib3-1.26.16.dist-info due to invalid metadata entry 'name'\u001b[0m\u001b[33m\n",
      "\u001b[0m\u001b[33mWARNING: Skipping /Users/nahmed4/anaconda3/envs/py311conenv/lib/python3.11/site-packages/urllib3-1.26.16.dist-info due to invalid metadata entry 'name'\u001b[0m\u001b[33m\n",
      "\u001b[0m\u001b[33mWARNING: Skipping /Users/nahmed4/anaconda3/envs/py311conenv/lib/python3.11/site-packages/urllib3-1.26.16.dist-info due to invalid metadata entry 'name'\u001b[0m\u001b[33m\n",
      "\u001b[0m\u001b[33mWARNING: Skipping /Users/nahmed4/anaconda3/envs/py311conenv/lib/python3.11/site-packages/urllib3-1.26.16.dist-info due to invalid metadata entry 'name'\u001b[0m\u001b[33m\n",
      "\u001b[0m"
     ]
    }
   ],
   "source": [
    "!pip install html5lib"
   ]
  },
  {
   "cell_type": "code",
   "execution_count": 6,
   "metadata": {},
   "outputs": [
    {
     "name": "stdout",
     "output_type": "stream",
     "text": [
      "\n",
      "        \n",
      "          \n",
      "        Hacker News\n",
      "        \n",
      "                  Hacker News\n",
      "                            new | past | comments | ask | show | jobs | submit            \n",
      "                              login\n",
      "                          \n",
      "              \n",
      "\n",
      "            \n",
      "      1.      California suspends Cruise's autonomous vehicle deployment (reuters.com)\n",
      "          767 points by ra7 10 hours ago  | hide | 934 comments        \n",
      "              \n",
      "      \n",
      "                \n",
      "      2.      Judas goat (wikipedia.org)\n",
      "          19 points by serverlessmom 1 hour ago  | hide | 6 comments        \n",
      "              \n",
      "      \n",
      "                \n",
      "      3.      Embeddings: What they are and why they matter (simonwillison.net)\n",
      "          58 points by simonw 3 hours ago  | hide | 13 comments        \n",
      "              \n",
      "      \n",
      "                \n",
      "      4.      The OSI Deprogrammer (docs.google.com)\n",
      "          47 points by mpweiher 3 hours ago  | hide | 20 comments        \n",
      "              \n",
      "      \n",
      "                \n",
      "      5.      Heated yoga may reduce depression in adults (news.harvard.edu)\n",
      "          20 points by nomilk 2 hours ago  | hide | 21 comments        \n",
      "              \n",
      "      \n",
      "                \n",
      "      6.      Show HN: Restaurants in Peace – leave a remembrance for a closed restaurant (restaurants.rip)\n",
      "          73 points by gregsadetsky 5 hours ago  | hide | 32 comments        \n",
      "              \n",
      "      \n",
      "                \n",
      "      7.      Waymo says insurance data shows its driverless cars are safer than humans (nbcbayarea.com)\n",
      "          90 points by kens 8 hours ago  | hide | 46 comments        \n",
      "              \n",
      "      \n",
      "                \n",
      "      8.      One Line in the Oldest Math Text Hinted at Hidden Universes [video] (youtube.com)\n",
      "          14 points by ksec 2 hours ago  | hide | 2 comments        \n",
      "              \n",
      "      \n",
      "                \n",
      "      9.      Why we don’t generate elliptic curves every day (filippo.io)\n",
      "          243 points by mfrw 13 hours ago  | hide | 41 comments        \n",
      "              \n",
      "      \n",
      "                \n",
      "      10.      The Wait Equation and AI Investment (javednissar.ca)\n",
      "          32 points by waldohatesyou 4 hours ago  | hide | 9 comments        \n",
      "              \n",
      "      \n",
      "                \n",
      "      11.      Voronoi Diagram and Delaunay Triangulation in O(nlog(n)) (2020) (codeforces.com)\n",
      "          21 points by cpp_frog 3 hours ago  | hide | 1 comment        \n",
      "              \n",
      "      \n",
      "                \n",
      "      12.      Life After “Calvin and Hobbes” (newyorker.com)\n",
      "          129 points by voisin 6 hours ago  | hide | 85 comments        \n",
      "              \n",
      "      \n",
      "                \n",
      "      13.      Server-side sandboxing: Containers and seccomp (figma.com)\n",
      "          188 points by emilsjolander 13 hours ago  | hide | 30 comments        \n",
      "              \n",
      "      \n",
      "                \n",
      "      14.      There should be more cash prizes for solving historical mysteries (resobscura.substack.com)\n",
      "          59 points by arbesman 8 hours ago  | hide | 16 comments        \n",
      "              \n",
      "      \n",
      "                \n",
      "      15.      Gittuf – a security layer for Git (gittuf.github.io)\n",
      "          76 points by RyeCombinator 9 hours ago  | hide | 8 comments        \n",
      "              \n",
      "      \n",
      "                \n",
      "      16.      LIGO Surpasses the Quantum Limit (caltech.edu)\n",
      "          8 points by clouddrover 2 hours ago  | hide | 2 comments        \n",
      "              \n",
      "      \n",
      "                \n",
      "      17.      A Philosophy of Software Design (stanford.edu)\n",
      "          6 points by belter 1 hour ago  | hide | discuss        \n",
      "              \n",
      "      \n",
      "                \n",
      "      18.      IceCube – South Pole Neutrino Observatory (wisc.edu)\n",
      "          44 points by belter 7 hours ago  | hide | 11 comments        \n",
      "              \n",
      "      \n",
      "                \n",
      "      19.      Animated AI (animatedai.github.io)\n",
      "          578 points by qwertyforce 15 hours ago  | hide | 51 comments        \n",
      "              \n",
      "      \n",
      "                \n",
      "      20.      Before computers were logic diagrams and machines (eejournal.com)\n",
      "          27 points by giuliomagnifico 6 hours ago  | hide | 4 comments        \n",
      "              \n",
      "      \n",
      "                \n",
      "      21.      Chasing bugs in the electronic village (1992) (around.com)\n",
      "          7 points by DerekBickerton 2 hours ago  | hide | discuss        \n",
      "              \n",
      "      \n",
      "                \n",
      "      22.      Show HN: Fediverser Portal – Bring your subreddits to Lemmy (alien.top)\n",
      "          75 points by rglullis 5 hours ago  | hide | 15 comments        \n",
      "              \n",
      "      \n",
      "                \n",
      "      23.      MAME 0.260 (mamedev.org)\n",
      "          5 points by chungy 2 hours ago  | hide | discuss        \n",
      "              \n",
      "      \n",
      "                \n",
      "      24.      The Ideation Flywheel: A mental model for deciding which startup ideas to pursue (stackfix.com)\n",
      "          159 points by caminmccluskey 14 hours ago  | hide | 74 comments        \n",
      "              \n",
      "      \n",
      "                \n",
      "      25.             Livedocs (YC W22) Is Hiring (ycombinator.com)\n",
      "        11 hours ago | hide      \n",
      "      \n",
      "                \n",
      "      26.      Halfsies (brilliant.org)\n",
      "          421 points by hysan 13 hours ago  | hide | 129 comments        \n",
      "              \n",
      "      \n",
      "                \n",
      "      27.      Development Secrets of the Original Kirby [video] (youtube.com)\n",
      "          53 points by fomine3 9 hours ago  | hide | 11 comments        \n",
      "              \n",
      "      \n",
      "                \n",
      "      28.      LIGO Surpasses the Quantum Limit (caltech.edu)\n",
      "          78 points by gmays 11 hours ago  | hide | 10 comments        \n",
      "              \n",
      "      \n",
      "                \n",
      "      29.      The City of Seattle accidentally gave me 32M emails for $40 (2018) (mchap.io)\n",
      "          273 points by chaps 12 hours ago  | hide | 199 comments        \n",
      "              \n",
      "      \n",
      "                \n",
      "      30.      Reconciliation is a knapsack problem (moderntreasury.com)\n",
      "          136 points by saarons 14 hours ago  | hide | 49 comments        \n",
      "              \n",
      "      \n",
      "            \n",
      "      More    \n",
      "  \n",
      "\n",
      "\n",
      "Guidelines | FAQ | Lists | API | Security | Legal | Apply to YC | Contact\n",
      "Search:       \n",
      "      \n",
      "  \n",
      "\n"
     ]
    }
   ],
   "source": [
    "from bs4 import BeautifulSoup\n",
    "\n",
    "# Remove HTML tags using Beautiful Soup library\n",
    "soup = BeautifulSoup(r.text, \"html5lib\")\n",
    "print(soup.get_text())"
   ]
  },
  {
   "cell_type": "code",
   "execution_count": 7,
   "metadata": {
    "scrolled": true
   },
   "outputs": [
    {
     "data": {
      "text/plain": [
       "<tr class=\"athing\" id=\"38002752\">\n",
       "      <td align=\"right\" class=\"title\" valign=\"top\"><span class=\"rank\">1.</span></td>      <td class=\"votelinks\" valign=\"top\"><center><a href=\"vote?id=38002752&amp;how=up&amp;goto=news\" id=\"up_38002752\"><div class=\"votearrow\" title=\"upvote\"></div></a></center></td><td class=\"title\"><span class=\"titleline\"><a href=\"https://www.reuters.com/business/autos-transportation/california-suspends-gm-cruises-driverless-autonomous-vehicle-permits-2023-10-24/\" rel=\"noreferrer\">California suspends Cruise's autonomous vehicle deployment</a><span class=\"sitebit comhead\"> (<a href=\"from?site=reuters.com\"><span class=\"sitestr\">reuters.com</span></a>)</span></span></td></tr>"
      ]
     },
     "execution_count": 7,
     "metadata": {},
     "output_type": "execute_result"
    }
   ],
   "source": [
    "# Find all articles\n",
    "summaries = soup.find_all(\"tr\", class_=\"athing\")\n",
    "summaries[0]"
   ]
  },
  {
   "cell_type": "code",
   "execution_count": 10,
   "metadata": {},
   "outputs": [
    {
     "data": {
      "text/plain": [
       "\"California suspends Cruise's autonomous vehicle deployment (reuters.com)\""
      ]
     },
     "execution_count": 10,
     "metadata": {},
     "output_type": "execute_result"
    }
   ],
   "source": [
    "# Extract title\n",
    "# summaries[0].find(\"a\", class_=\"titlelink\").get_text().strip()\n",
    "\n",
    "# Extract title\n",
    "summaries[0].find(\"span\", class_=\"titleline\").get_text().strip()"
   ]
  },
  {
   "cell_type": "code",
   "execution_count": 13,
   "metadata": {},
   "outputs": [
    {
     "name": "stdout",
     "output_type": "stream",
     "text": [
      "30 Article summaries found. Sample:\n",
      "California suspends Cruise's autonomous vehicle deployment (reuters.com)\n"
     ]
    }
   ],
   "source": [
    "# Find all articles, extract titles\n",
    "articles = []\n",
    "summaries = soup.find_all(\"tr\", class_=\"athing\")\n",
    "for summary in summaries:\n",
    "    # title = summary.find(\"a\", class_=\"titlelink\").get_text().strip()\n",
    "    title = summary.find(\"span\", class_=\"titleline\").get_text().strip()\n",
    "    articles.append((title))\n",
    "\n",
    "print(len(articles), \"Article summaries found. Sample:\")\n",
    "print(articles[0])"
   ]
  },
  {
   "cell_type": "markdown",
   "metadata": {
    "collapsed": true
   },
   "source": [
    "## Normalization"
   ]
  },
  {
   "cell_type": "markdown",
   "metadata": {},
   "source": [
    "### Case Normalization"
   ]
  },
  {
   "cell_type": "code",
   "execution_count": null,
   "metadata": {},
   "outputs": [],
   "source": [
    "# Sample text\n",
    "text = \"The first time you see The Second Renaissance it may look boring. Look at it at least twice and definitely watch part 2. It will change your view of the matrix. Are the human people the ones who started the war ? Is AI a bad thing ?\"\n",
    "print(text)"
   ]
  },
  {
   "cell_type": "code",
   "execution_count": null,
   "metadata": {},
   "outputs": [],
   "source": [
    "# Convert to lowercase\n",
    "text = text.lower() \n",
    "print(text)"
   ]
  },
  {
   "cell_type": "markdown",
   "metadata": {},
   "source": [
    "### Punctuation Removal"
   ]
  },
  {
   "cell_type": "code",
   "execution_count": null,
   "metadata": {},
   "outputs": [],
   "source": [
    "import re\n",
    "\n",
    "# Remove punctuation characters\n",
    "text = re.sub(r\"[^a-zA-Z0-9]\", \" \", text) \n",
    "print(text)"
   ]
  },
  {
   "cell_type": "markdown",
   "metadata": {},
   "source": [
    "## Tokenization"
   ]
  },
  {
   "cell_type": "code",
   "execution_count": null,
   "metadata": {},
   "outputs": [],
   "source": [
    "# Split text into tokens (words)\n",
    "words = text.split()\n",
    "print(words)"
   ]
  },
  {
   "cell_type": "markdown",
   "metadata": {},
   "source": [
    "### NLTK: Natural Language ToolKit"
   ]
  },
  {
   "cell_type": "code",
   "execution_count": null,
   "metadata": {},
   "outputs": [],
   "source": [
    "import os\n",
    "import nltk\n",
    "nltk.data.path.append(os.path.join(os.getcwd(), \"nltk_data\"))"
   ]
  },
  {
   "cell_type": "code",
   "execution_count": null,
   "metadata": {},
   "outputs": [],
   "source": [
    "# Another sample text\n",
    "text = \"Dr. Smith graduated from the University of Washington. He later started an analytics firm called Lux, which catered to enterprise customers.\"\n",
    "print(text)"
   ]
  },
  {
   "cell_type": "code",
   "execution_count": null,
   "metadata": {},
   "outputs": [],
   "source": [
    "from nltk.tokenize import word_tokenize\n",
    "\n",
    "# Split text into words using NLTK\n",
    "words = word_tokenize(text)\n",
    "print(words)"
   ]
  },
  {
   "cell_type": "code",
   "execution_count": null,
   "metadata": {},
   "outputs": [],
   "source": [
    "from nltk.tokenize import sent_tokenize\n",
    "\n",
    "# Split text into sentences\n",
    "sentences = sent_tokenize(text)\n",
    "print(sentences)"
   ]
  },
  {
   "cell_type": "code",
   "execution_count": null,
   "metadata": {},
   "outputs": [],
   "source": [
    "# List stop words\n",
    "from nltk.corpus import stopwords\n",
    "print(stopwords.words(\"english\"))"
   ]
  },
  {
   "cell_type": "code",
   "execution_count": null,
   "metadata": {},
   "outputs": [],
   "source": [
    "# Reset text\n",
    "text = \"The first time you see The Second Renaissance it may look boring. Look at it at least twice and definitely watch part 2. It will change your view of the matrix. Are the human people the ones who started the war ? Is AI a bad thing ?\"\n",
    "\n",
    "# Normalize it\n",
    "text = re.sub(r\"[^a-zA-Z0-9]\", \" \", text.lower())\n",
    "\n",
    "# Tokenize it\n",
    "words = text.split()\n",
    "print(words)"
   ]
  },
  {
   "cell_type": "code",
   "execution_count": null,
   "metadata": {},
   "outputs": [],
   "source": [
    "# Remove stop words\n",
    "words = [w for w in words if w not in stopwords.words(\"english\")]\n",
    "print(words)"
   ]
  },
  {
   "cell_type": "markdown",
   "metadata": {},
   "source": [
    "### Sentence Parsing"
   ]
  },
  {
   "cell_type": "code",
   "execution_count": null,
   "metadata": {},
   "outputs": [],
   "source": [
    "import nltk\n",
    "\n",
    "# Define a custom grammar\n",
    "my_grammar = nltk.CFG.fromstring(\"\"\"\n",
    "S -> NP VP\n",
    "PP -> P NP\n",
    "NP -> Det N | Det N PP | 'I'\n",
    "VP -> V NP | VP PP\n",
    "Det -> 'an' | 'my'\n",
    "N -> 'elephant' | 'pajamas'\n",
    "V -> 'shot'\n",
    "P -> 'in'\n",
    "\"\"\")\n",
    "parser = nltk.ChartParser(my_grammar)\n",
    "\n",
    "# Parse a sentence\n",
    "sentence = word_tokenize(\"I shot an elephant in my pajamas\")\n",
    "for tree in parser.parse(sentence):\n",
    "    print(tree)"
   ]
  },
  {
   "cell_type": "markdown",
   "metadata": {},
   "source": [
    "## Stemming & Lemmatization\n",
    "\n",
    "### Stemming"
   ]
  },
  {
   "cell_type": "code",
   "execution_count": null,
   "metadata": {},
   "outputs": [],
   "source": [
    "from nltk.stem.porter import PorterStemmer\n",
    "\n",
    "# Reduce words to their stems\n",
    "stemmed = [PorterStemmer().stem(w) for w in words]\n",
    "print(stemmed)"
   ]
  },
  {
   "cell_type": "markdown",
   "metadata": {},
   "source": [
    "### Lemmatization"
   ]
  },
  {
   "cell_type": "code",
   "execution_count": null,
   "metadata": {},
   "outputs": [],
   "source": [
    "from nltk.stem.wordnet import WordNetLemmatizer\n",
    "\n",
    "# Reduce words to their root form\n",
    "lemmed = [WordNetLemmatizer().lemmatize(w) for w in words]\n",
    "print(lemmed)"
   ]
  },
  {
   "cell_type": "code",
   "execution_count": null,
   "metadata": {},
   "outputs": [],
   "source": [
    "# Lemmatize verbs by specifying pos\n",
    "lemmed = [WordNetLemmatizer().lemmatize(w, pos='v') for w in lemmed]\n",
    "print(lemmed)"
   ]
  },
  {
   "cell_type": "code",
   "execution_count": null,
   "metadata": {},
   "outputs": [],
   "source": []
  }
 ],
 "metadata": {
  "kernelspec": {
   "display_name": "Python 3 (ipykernel)",
   "language": "python",
   "name": "python3"
  },
  "language_info": {
   "codemirror_mode": {
    "name": "ipython",
    "version": 3
   },
   "file_extension": ".py",
   "mimetype": "text/x-python",
   "name": "python",
   "nbconvert_exporter": "python",
   "pygments_lexer": "ipython3",
   "version": "3.11.4"
  }
 },
 "nbformat": 4,
 "nbformat_minor": 2
}
